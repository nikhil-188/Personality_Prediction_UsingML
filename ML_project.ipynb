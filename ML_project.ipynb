{
 "cells": [
  {
   "cell_type": "code",
   "execution_count": 1,
   "metadata": {
    "_cell_guid": "b1076dfc-b9ad-4769-8c92-a6c4dae69d19",
    "_uuid": "8f2839f25d086af736a60e9eeb907d3b93b6e0e5"
   },
   "outputs": [
    {
     "data": {
      "text/html": [
       "<style type='text/css'>\n",
       ".datatable table.frame { margin-bottom: 0; }\n",
       ".datatable table.frame thead { border-bottom: none; }\n",
       ".datatable table.frame tr.coltypes td {  color: #FFFFFF;  line-height: 6px;  padding: 0 0.5em;}\n",
       ".datatable .bool    { background: #DDDD99; }\n",
       ".datatable .object  { background: #565656; }\n",
       ".datatable .int     { background: #5D9E5D; }\n",
       ".datatable .float   { background: #4040CC; }\n",
       ".datatable .str     { background: #CC4040; }\n",
       ".datatable .row_index {  background: var(--jp-border-color3);  border-right: 1px solid var(--jp-border-color0);  color: var(--jp-ui-font-color3);  font-size: 9px;}\n",
       ".datatable .frame tr.coltypes .row_index {  background: var(--jp-border-color0);}\n",
       ".datatable th:nth-child(2) { padding-left: 12px; }\n",
       ".datatable .hellipsis {  color: var(--jp-cell-editor-border-color);}\n",
       ".datatable .vellipsis {  background: var(--jp-layout-color0);  color: var(--jp-cell-editor-border-color);}\n",
       ".datatable .na {  color: var(--jp-cell-editor-border-color);  font-size: 80%;}\n",
       ".datatable .footer { font-size: 9px; }\n",
       ".datatable .frame_dimensions {  background: var(--jp-border-color3);  border-top: 1px solid var(--jp-border-color0);  color: var(--jp-ui-font-color3);  display: inline-block;  opacity: 0.6;  padding: 1px 10px 1px 5px;}\n",
       "</style>\n"
      ],
      "text/plain": [
       "<IPython.core.display.HTML object>"
      ]
     },
     "metadata": {},
     "output_type": "display_data"
    }
   ],
   "source": [
    "import pandas as pd\n",
    "import numpy as np\n",
    "import seaborn as sns\n",
    "import matplotlib.pyplot as plt\n",
    "from warnings import filterwarnings\n",
    "from mpl_toolkits.mplot3d import Axes3D\n",
    "import statsmodels.api as sm\n",
    "import missingno as msno\n",
    "from sklearn.decomposition import PCA\n",
    "from sklearn.preprocessing import scale\n",
    "from sklearn.neighbors import LocalOutlierFactor\n",
    "from scipy.stats import levene\n",
    "from scipy.stats import shapiro\n",
    "from scipy.stats.stats import pearsonr\n",
    "from sklearn.preprocessing import LabelEncoder\n",
    "from sklearn.model_selection import train_test_split, cross_val_score, cross_val_predict\n",
    "from sklearn.preprocessing import scale\n",
    "from sklearn.model_selection import ShuffleSplit, GridSearchCV\n",
    "from sklearn.metrics import mean_squared_error, r2_score\n",
    "from sklearn import model_selection\n",
    "from sklearn.tree import DecisionTreeClassifier, DecisionTreeRegressor\n",
    "from sklearn.neighbors import KNeighborsRegressor\n",
    "from sklearn.neighbors import KNeighborsClassifier\n",
    "from sklearn.ensemble import BaggingRegressor\n",
    "from sklearn.svm import SVR\n",
    "from sklearn.preprocessing import StandardScaler\n",
    "from sklearn.neural_network import MLPRegressor\n",
    "from sklearn.neural_network import MLPClassifier\n",
    "from sklearn.linear_model import LinearRegression\n",
    "from sklearn.cross_decomposition import PLSRegression\n",
    "from sklearn.linear_model import Ridge\n",
    "from sklearn.linear_model import RidgeCV\n",
    "from sklearn.linear_model import Lasso\n",
    "from sklearn.linear_model import LassoCV\n",
    "from sklearn.linear_model import ElasticNet\n",
    "from sklearn.linear_model import ElasticNetCV\n",
    "from sklearn import linear_model\n",
    "from sklearn.ensemble import RandomForestRegressor, RandomForestClassifier\n",
    "from sklearn.ensemble import GradientBoostingRegressor, GradientBoostingClassifier\n",
    "import xgboost as xgb\n",
    "from xgboost import XGBRegressor, XGBClassifier\n",
    "from lightgbm import LGBMRegressor, LGBMClassifier\n",
    "from catboost import CatBoostRegressor, CatBoostClassifier\n",
    "from sklearn.linear_model import LogisticRegression\n",
    "from sklearn.naive_bayes import GaussianNB\n",
    "from sklearn.svm import SVC\n",
    "from sklearn import tree\n",
    "from sklearn.discriminant_analysis import LinearDiscriminantAnalysis\n",
    "from sklearn.metrics import confusion_matrix, accuracy_score, classification_report, roc_auc_score, roc_curve"
   ]
  },
  {
   "cell_type": "markdown",
   "metadata": {},
   "source": [
    "# DATA"
   ]
  },
  {
   "cell_type": "code",
   "execution_count": 7,
   "metadata": {},
   "outputs": [],
   "source": [
    "Personality = pd.read_csv(\"C:/Users/nikhil/Downloads/psyc.csv\")\n",
    "Personality[\"Total\"] = Personality[\"openness\"] + Personality[\"neuroticism\"] + \\\n",
    "Personality[\"conscientiousness\"] + Personality[\"agreeableness\"] + Personality[\"extraversion\"]\n",
    "\n",
    "data = Personality.copy()\n",
    "\n",
    "dataV = Personality.copy() # for VISUALIZATION\n",
    "dataV[\"gender\"] = pd.Categorical(dataV[\"gender\"])\n",
    "dataV[\"openness\"] = pd.Categorical(dataV[\"openness\"])\n",
    "dataV[\"neuroticism\"] = pd.Categorical(dataV[\"neuroticism\"])\n",
    "dataV[\"conscientiousness\"] = pd.Categorical(dataV[\"conscientiousness\"])\n",
    "dataV[\"agreeableness\"] = pd.Categorical(dataV[\"agreeableness\"])\n",
    "dataV[\"extraversion\"] = pd.Categorical(dataV[\"extraversion\"])\n",
    "dataV[\"Personality\"] = pd.Categorical(dataV[\"Personality\"])\n",
    "\n",
    "df = data.select_dtypes(include=[\"float64\",\"int64\",\"int32\"])"
   ]
  },
  {
   "cell_type": "markdown",
   "metadata": {},
   "source": [
    "# INFORMATION"
   ]
  },
  {
   "cell_type": "code",
   "execution_count": 14,
   "metadata": {},
   "outputs": [
    {
     "name": "stdout",
     "output_type": "stream",
     "text": [
      "(315, 9)\n",
      "------------------------------------------------------------------------------------------------------------------------\n",
      "Index(['gender', 'age', 'openness', 'neuroticism', 'conscientiousness',\n",
      "       'agreeableness', 'extraversion', 'Personality', 'Total'],\n",
      "      dtype='object')\n",
      "------------------------------------------------------------------------------------------------------------------------\n",
      "<class 'pandas.core.frame.DataFrame'>\n",
      "RangeIndex: 315 entries, 0 to 314\n",
      "Data columns (total 9 columns):\n",
      " #   Column             Non-Null Count  Dtype \n",
      "---  ------             --------------  ----- \n",
      " 0   gender             315 non-null    object\n",
      " 1   age                315 non-null    int64 \n",
      " 2   openness           315 non-null    int64 \n",
      " 3   neuroticism        315 non-null    int64 \n",
      " 4   conscientiousness  315 non-null    int64 \n",
      " 5   agreeableness      315 non-null    int64 \n",
      " 6   extraversion       315 non-null    int64 \n",
      " 7   Personality        315 non-null    object\n",
      " 8   Total              315 non-null    int64 \n",
      "dtypes: int64(7), object(2)\n",
      "memory usage: 22.3+ KB\n",
      "None\n",
      "------------------------------------------------------------------------------------------------------------------------\n",
      "                   count       mean       std   min   25%   50%   75%   max\n",
      "age                315.0  20.244444  2.616811   5.0  18.0  20.0  22.0  28.0\n",
      "openness           315.0   4.850794  1.537211   1.0   4.0   5.0   6.0   8.0\n",
      "neuroticism        315.0   4.584127  1.818623   1.0   3.0   5.0   6.0   9.0\n",
      "conscientiousness  315.0   4.812698  1.786315   1.0   4.0   5.0   6.0   9.0\n",
      "agreeableness      315.0   4.844444  1.718555   1.0   4.0   5.0   6.0   8.0\n",
      "extraversion       315.0   4.926984  1.466527   1.0   4.0   5.0   6.0   8.0\n",
      "Total              315.0  24.019048  3.417772  16.0  22.0  24.0  26.0  35.0\n",
      "------------------------------------------------------------------------------------------------------------------------\n",
      "Male      159\n",
      "Female    156\n",
      "Name: gender, dtype: int64\n",
      "------------------------------------------------------------------------------------------------------------------------\n",
      "serious        153\n",
      "extraverted     77\n",
      "responsible     40\n",
      "lively          24\n",
      "dependable      21\n",
      "Name: Personality, dtype: int64\n",
      "------------------------------------------------------------------------------------------------------------------------\n",
      "                        age  openness  neuroticism  conscientiousness  \\\n",
      "age                1.000000 -0.089076     0.000015          -0.051491   \n",
      "openness          -0.089076  1.000000    -0.037076           0.004867   \n",
      "neuroticism        0.000015 -0.037076     1.000000           0.063195   \n",
      "conscientiousness -0.051491  0.004867     0.063195           1.000000   \n",
      "agreeableness     -0.009930 -0.046185    -0.163421          -0.111187   \n",
      "extraversion      -0.044296 -0.078308     0.005296          -0.115865   \n",
      "Total             -0.090968  0.375761     0.468561           0.452846   \n",
      "\n",
      "                   agreeableness  extraversion     Total  \n",
      "age                    -0.009930     -0.044296 -0.090968  \n",
      "openness               -0.046185     -0.078308  0.375761  \n",
      "neuroticism            -0.163421      0.005296  0.468561  \n",
      "conscientiousness      -0.111187     -0.115865  0.452846  \n",
      "agreeableness           1.000000      0.072560  0.368121  \n",
      "extraversion            0.072560      1.000000  0.372614  \n",
      "Total                   0.368121      0.372614  1.000000  \n",
      "------------------------------------------------------------------------------------------------------------------------\n",
      "gender  Personality\n",
      "Female  dependable     5.636364\n",
      "        extraverted    5.000000\n",
      "        lively         5.500000\n",
      "        responsible    4.428571\n",
      "        serious        4.607843\n",
      "Male    dependable     5.200000\n",
      "        extraverted    5.578947\n",
      "        lively         5.500000\n",
      "        responsible    4.500000\n",
      "        serious        4.637255\n",
      "Name: openness, dtype: float64\n",
      "------------------------------------------------------------------------------------------------------------------------\n",
      "gender  Personality\n",
      "Female  dependable     5.454545\n",
      "        extraverted    5.706897\n",
      "        lively         2.750000\n",
      "        responsible    4.214286\n",
      "        serious        3.901961\n",
      "Male    dependable     4.900000\n",
      "        extraverted    6.631579\n",
      "        lively         3.500000\n",
      "        responsible    4.333333\n",
      "        serious        4.225490\n",
      "Name: neuroticism, dtype: float64\n",
      "------------------------------------------------------------------------------------------------------------------------\n",
      "gender  Personality\n",
      "Female  dependable     5.636364\n",
      "        extraverted    4.362069\n",
      "        lively         4.375000\n",
      "        responsible    4.642857\n",
      "        serious        5.156863\n",
      "Male    dependable     4.600000\n",
      "        extraverted    3.736842\n",
      "        lively         5.687500\n",
      "        responsible    3.916667\n",
      "        serious        5.078431\n",
      "Name: conscientiousness, dtype: float64\n",
      "------------------------------------------------------------------------------------------------------------------------\n",
      "gender  Personality\n",
      "Female  dependable     5.000000\n",
      "        extraverted    4.965517\n",
      "        lively         5.000000\n",
      "        responsible    3.714286\n",
      "        serious        4.862745\n",
      "Male    dependable     4.700000\n",
      "        extraverted    4.684211\n",
      "        lively         5.000000\n",
      "        responsible    4.500000\n",
      "        serious        5.107843\n",
      "Name: agreeableness, dtype: float64\n",
      "------------------------------------------------------------------------------------------------------------------------\n",
      "gender  Personality\n",
      "Female  dependable     5.454545\n",
      "        extraverted    4.603448\n",
      "        lively         4.000000\n",
      "        responsible    4.000000\n",
      "        serious        5.764706\n",
      "Male    dependable     5.200000\n",
      "        extraverted    4.736842\n",
      "        lively         2.812500\n",
      "        responsible    4.416667\n",
      "        serious        5.362745\n",
      "Name: extraversion, dtype: float64\n",
      "------------------------------------------------------------------------------------------------------------------------\n",
      "Personality  Total\n",
      "dependable   18       6.000000\n",
      "             21       4.000000\n",
      "             23       5.333333\n",
      "             24       5.000000\n",
      "             25       4.750000\n",
      "                        ...   \n",
      "serious      27       5.466667\n",
      "             28       5.444444\n",
      "             29       4.666667\n",
      "             30       7.000000\n",
      "             31       5.666667\n",
      "Name: openness, Length: 63, dtype: float64\n",
      "------------------------------------------------------------------------------------------------------------------------\n",
      "Personality  Total\n",
      "dependable   18       2.000000\n",
      "             21       3.000000\n",
      "             23       3.333333\n",
      "             24       4.000000\n",
      "             25       4.750000\n",
      "                        ...   \n",
      "serious      27       4.533333\n",
      "             28       4.666667\n",
      "             29       5.333333\n",
      "             30       4.750000\n",
      "             31       5.666667\n",
      "Name: neuroticism, Length: 63, dtype: float64\n",
      "------------------------------------------------------------------------------------------------------------------------\n",
      "Personality  Total\n",
      "dependable   18       2.000000\n",
      "             21       2.000000\n",
      "             23       4.666667\n",
      "             24       3.000000\n",
      "             25       6.500000\n",
      "                        ...   \n",
      "serious      27       5.866667\n",
      "             28       6.444444\n",
      "             29       6.333333\n",
      "             30       6.000000\n",
      "             31       7.000000\n",
      "Name: conscientiousness, Length: 63, dtype: float64\n",
      "------------------------------------------------------------------------------------------------------------------------\n",
      "Personality  Total\n",
      "dependable   18       4.000000\n",
      "             21       6.000000\n",
      "             23       4.000000\n",
      "             24       6.500000\n",
      "             25       3.250000\n",
      "                        ...   \n",
      "serious      27       5.333333\n",
      "             28       6.000000\n",
      "             29       6.555556\n",
      "             30       6.500000\n",
      "             31       6.333333\n",
      "Name: agreeableness, Length: 63, dtype: float64\n",
      "------------------------------------------------------------------------------------------------------------------------\n",
      "Personality  Total\n",
      "dependable   18       4.000000\n",
      "             21       6.000000\n",
      "             23       5.666667\n",
      "             24       5.500000\n",
      "             25       5.750000\n",
      "                        ...   \n",
      "serious      27       5.800000\n",
      "             28       5.444444\n",
      "             29       6.111111\n",
      "             30       5.750000\n",
      "             31       6.333333\n",
      "Name: extraversion, Length: 63, dtype: float64\n",
      "------------------------------------------------------------------------------------------------------------------------\n",
      "gender               0\n",
      "age                  0\n",
      "openness             0\n",
      "neuroticism          0\n",
      "conscientiousness    0\n",
      "agreeableness        0\n",
      "extraversion         0\n",
      "Personality          0\n",
      "Total                0\n",
      "dtype: int64\n"
     ]
    }
   ],
   "source": [
    "print(data.shape)\n",
    "print(\"----\"*30)\n",
    "print(data.columns)\n",
    "print(\"----\"*30)\n",
    "print(data.info())\n",
    "print(\"----\"*30)\n",
    "print(data.describe().T)\n",
    "print(\"----\"*30)\n",
    "print(data[\"gender\"].value_counts())\n",
    "print(\"----\"*30)\n",
    "print(data[\"Personality\"].value_counts())\n",
    "print(\"----\"*30)\n",
    "print(df.corr())\n",
    "print(\"----\"*30)\n",
    "print(data.groupby([\"gender\",\"Personality\"])[\"openness\"].mean())\n",
    "print(\"----\"*30)\n",
    "print(data.groupby([\"gender\",\"Personality\"])[\"neuroticism\"].mean())\n",
    "print(\"----\"*30)\n",
    "print(data.groupby([\"gender\",\"Personality\"])[\"conscientiousness\"].mean())\n",
    "print(\"----\"*30)\n",
    "print(data.groupby([\"gender\",\"Personality\"])[\"agreeableness\"].mean())\n",
    "print(\"----\"*30)\n",
    "print(data.groupby([\"gender\",\"Personality\"])[\"extraversion\"].mean())\n",
    "print(\"----\"*30)\n",
    "print(data.groupby([\"Personality\",\"Total\"])[\"openness\"].mean())\n",
    "print(\"----\"*30)\n",
    "print(data.groupby([\"Personality\",\"Total\"])[\"neuroticism\"].mean())\n",
    "print(\"----\"*30)\n",
    "print(data.groupby([\"Personality\",\"Total\"])[\"conscientiousness\"].mean())\n",
    "print(\"----\"*30)\n",
    "print(data.groupby([\"Personality\",\"Total\"])[\"agreeableness\"].mean())\n",
    "print(\"----\"*30)\n",
    "print(data.groupby([\"Personality\",\"Total\"])[\"extraversion\"].mean())\n",
    "print(\"----\"*30)\n",
    "print(data.isnull().sum())"
   ]
  },
  {
   "cell_type": "markdown",
   "metadata": {},
   "source": [
    "# VISUALIZATION"
   ]
  },
  {
   "cell_type": "code",
   "execution_count": 15,
   "metadata": {},
   "outputs": [
    {
     "data": {
      "image/png": "[encoded data removed]",
      "text/plain": [
       "<Figure size 360x360 with 1 Axes>"
      ]
     },
     "metadata": {
      "needs_background": "light"
     },
     "output_type": "display_data"
    }
   ],
   "source": [
    "dataV[\"gender\"].hist(figsize=(5,5))\n",
    "plt.show()"
   ]
  },
  {
   "cell_type": "code",
   "execution_count": 16,
   "metadata": {},
   "outputs": [
    {
     "data": {
      "image/png": "[encoded data removed]",
      "text/plain": [
       "<Figure size 360x360 with 1 Axes>"
      ]
     },
     "metadata": {
      "needs_background": "light"
     },
     "output_type": "display_data"
    }
   ],
   "source": [
    "dataV[\"Personality\"].hist(figsize=(5,5))\n",
    "plt.show()"
   ]
  },
  {
   "cell_type": "code",
   "execution_count": 17,
   "metadata": {},
   "outputs": [
    {
     "data": {
      "image/png": "[encoded data removed]",
      "text/plain": [
       "<Figure size 360x360 with 1 Axes>"
      ]
     },
     "metadata": {
      "needs_background": "light"
     },
     "output_type": "display_data"
    }
   ],
   "source": [
    "dataV[\"openness\"].hist(figsize=(5,5))\n",
    "plt.show()"
   ]
  },
  {
   "cell_type": "code",
   "execution_count": 18,
   "metadata": {},
   "outputs": [
    {
     "data": {
      "image/png": "[encoded data removed]",
      "text/plain": [
       "<Figure size 360x360 with 1 Axes>"
      ]
     },
     "metadata": {
      "needs_background": "light"
     },
     "output_type": "display_data"
    }
   ],
   "source": [
    "dataV[\"neuroticism\"].hist(figsize=(5,5))\n",
    "plt.show()"
   ]
  },
  {
   "cell_type": "code",
   "execution_count": 19,
   "metadata": {},
   "outputs": [
    {
     "data": {
      "image/png": "[encoded data removed]",
      "text/plain": [
       "<Figure size 360x360 with 1 Axes>"
      ]
     },
     "metadata": {
      "needs_background": "light"
     },
     "output_type": "display_data"
    }
   ],
   "source": [
    "dataV[\"conscientiousness\"].hist(figsize=(5,5))\n",
    "plt.show()"
   ]
  },
  {
   "cell_type": "code",
   "execution_count": 20,
   "metadata": {},
   "outputs": [
    {
     "data": {
      "image/png": "[encoded data removed]",
      "text/plain": [
       "<Figure size 360x360 with 1 Axes>"
      ]
     },
     "metadata": {
      "needs_background": "light"
     },
     "output_type": "display_data"
    }
   ],
   "source": [
    "dataV[\"agreeableness\"].hist(figsize=(5,5))\n",
    "plt.show()"
   ]
  },
  {
   "cell_type": "code",
   "execution_count": 21,
   "metadata": {},
   "outputs": [
    {
     "data": {
      "image/png": "[encoded data removed]",
      "text/plain": [
       "<Figure size 360x360 with 1 Axes>"
      ]
     },
     "metadata": {
      "needs_background": "light"
     },
     "output_type": "display_data"
    }
   ],
   "source": [
    "dataV[\"extraversion\"].hist(figsize=(5,5))\n",
    "plt.show()"
   ]
  },
  {
   "cell_type": "code",
   "execution_count": 29,
   "metadata": {},
   "outputs": [
    {
     "data": {
      "image/png": "[encoded data removed]",
      "text/plain": [
       "<Figure size 432x288 with 1 Axes>"
      ]
     },
     "metadata": {
      "needs_background": "light"
     },
     "output_type": "display_data"
    }
   ],
   "source": [
    "sns.boxplot(x=\"Total\",y=\"gender\",hue=\"Personality\",data=data)\n",
    "plt.show()"
   ]
  },
  {
   "cell_type": "code",
   "execution_count": 31,
   "metadata": {},
   "outputs": [
    {
     "data": {
      "image/png": "[encoded data removed]",
      "text/plain": [
       "<Figure size 432x288 with 1 Axes>"
      ]
     },
     "metadata": {
      "needs_background": "light"
     },
     "output_type": "display_data"
    }
   ],
   "source": [
    "sns.barplot(x=\"Total\",y=\"gender\",hue=\"Personality\",data=data)\n",
    "plt.show()"
   ]
  },
  {
   "cell_type": "code",
   "execution_count": 35,
   "metadata": {},
   "outputs": [
    {
     "data": {
      "image/png": "[encoded data removed]",
      "text/plain": [
       "<Figure size 432x288 with 1 Axes>"
      ]
     },
     "metadata": {
      "needs_background": "light"
     },
     "output_type": "display_data"
    }
   ],
   "source": [
    "sns.barplot(x=\"openness\",y=\"Total\",hue=\"Personality\",data=dataV)\n",
    "plt.show()"
   ]
  },
  {
   "cell_type": "code",
   "execution_count": 36,
   "metadata": {},
   "outputs": [
    {
     "data": {
      "image/png": "[encoded data removed]",
      "text/plain": [
       "<Figure size 432x288 with 1 Axes>"
      ]
     },
     "metadata": {
      "needs_background": "light"
     },
     "output_type": "display_data"
    }
   ],
   "source": [
    "sns.barplot(x=\"neuroticism\",y=\"Total\",hue=\"Personality\",data=dataV)\n",
    "plt.show()"
   ]
  },
  {
   "cell_type": "code",
   "execution_count": 37,
   "metadata": {},
   "outputs": [
    {
     "data": {
      "image/png": "[encoded data removed]",
      "text/plain": [
       "<Figure size 432x288 with 1 Axes>"
      ]
     },
     "metadata": {
      "needs_background": "light"
     },
     "output_type": "display_data"
    }
   ],
   "source": [
    "sns.barplot(x=\"conscientiousness\",y=\"Total\",hue=\"Personality\",data=dataV)\n",
    "plt.show()"
   ]
  },
  {
   "cell_type": "code",
   "execution_count": 38,
   "metadata": {},
   "outputs": [
    {
     "data": {
      "image/png": "[encoded data removed]",
      "text/plain": [
       "<Figure size 432x288 with 1 Axes>"
      ]
     },
     "metadata": {
      "needs_background": "light"
     },
     "output_type": "display_data"
    }
   ],
   "source": [
    "sns.barplot(x=\"agreeableness\",y=\"Total\",hue=\"Personality\",data=dataV)\n",
    "plt.show()"
   ]
  },
  {
   "cell_type": "code",
   "execution_count": 39,
   "metadata": {},
   "outputs": [
    {
     "data": {
      "image/png": "[encoded data removed]",
      "text/plain": [
       "<Figure size 432x288 with 1 Axes>"
      ]
     },
     "metadata": {
      "needs_background": "light"
     },
     "output_type": "display_data"
    }
   ],
   "source": [
    "sns.barplot(x=\"extraversion\",y=\"Total\",hue=\"Personality\",data=dataV)\n",
    "plt.show()"
   ]
  },
  {
   "cell_type": "code",
   "execution_count": 43,
   "metadata": {},
   "outputs": [
    {
     "data": {
      "image/png": "[encoded data removed]",
      "text/plain": [
       "<Figure size 432x288 with 1 Axes>"
      ]
     },
     "metadata": {
      "needs_background": "light"
     },
     "output_type": "display_data"
    }
   ],
   "source": [
    "sns.lineplot(x=\"Personality\",y=\"openness\",data=data)\n",
    "plt.show()"
   ]
  },
  {
   "cell_type": "code",
   "execution_count": 44,
   "metadata": {},
   "outputs": [
    {
     "data": {
      "image/png": "[encoded data removed]",
      "text/plain": [
       "<Figure size 432x288 with 1 Axes>"
      ]
     },
     "metadata": {
      "needs_background": "light"
     },
     "output_type": "display_data"
    }
   ],
   "source": [
    "sns.lineplot(x=\"Personality\",y=\"openness\",data=data)\n",
    "plt.show()"
   ]
  },
  {
   "cell_type": "code",
   "execution_count": 45,
   "metadata": {},
   "outputs": [
    {
     "data": {
      "image/png": "[encoded data removed]",
      "text/plain": [
       "<Figure size 432x288 with 1 Axes>"
      ]
     },
     "metadata": {
      "needs_background": "light"
     },
     "output_type": "display_data"
    }
   ],
   "source": [
    "sns.lineplot(x=\"Personality\",y=\"neuroticism\",data=data)\n",
    "plt.show()"
   ]
  },
  {
   "cell_type": "code",
   "execution_count": 46,
   "metadata": {},
   "outputs": [
    {
     "data": {
      "image/png": "[encoded data removed]",
      "text/plain": [
       "<Figure size 432x288 with 1 Axes>"
      ]
     },
     "metadata": {
      "needs_background": "light"
     },
     "output_type": "display_data"
    }
   ],
   "source": [
    "sns.lineplot(x=\"Personality\",y=\"conscientiousness\",data=data)\n",
    "plt.show()"
   ]
  },
  {
   "cell_type": "code",
   "execution_count": 47,
   "metadata": {},
   "outputs": [
    {
     "data": {
      "image/png": "[encoded data removed]",
      "text/plain": [
       "<Figure size 432x288 with 1 Axes>"
      ]
     },
     "metadata": {
      "needs_background": "light"
     },
     "output_type": "display_data"
    }
   ],
   "source": [
    "sns.lineplot(x=\"Personality\",y=\"agreeableness\",data=data)\n",
    "plt.show()"
   ]
  },
  {
   "cell_type": "code",
   "execution_count": 48,
   "metadata": {},
   "outputs": [
    {
     "data": {
      "image/png": "[encoded data removed]",
      "text/plain": [
       "<Figure size 432x288 with 1 Axes>"
      ]
     },
     "metadata": {
      "needs_background": "light"
     },
     "output_type": "display_data"
    }
   ],
   "source": [
    "sns.lineplot(x=\"Personality\",y=\"extraversion\",data=data)\n",
    "plt.show()"
   ]
  },
  {
   "cell_type": "markdown",
   "metadata": {},
   "source": [
    "# CORRELATION VISUALIZATION "
   ]
  },
  {
   "cell_type": "code",
   "execution_count": 52,
   "metadata": {},
   "outputs": [],
   "source": [
    "features = [\"openness\",\"neuroticism\",\"conscientiousness\",\"agreeableness\",\"extraversion\"]"
   ]
  },
  {
   "cell_type": "code",
   "execution_count": 58,
   "metadata": {},
   "outputs": [],
   "source": [
    "corrPearson = data[features].corr(method=\"pearson\")\n",
    "corrSpearman = data[features].corr(method=\"spearman\")"
   ]
  },
  {
   "cell_type": "code",
   "execution_count": 59,
   "metadata": {},
   "outputs": [
    {
     "data": {
      "image/png": "[encoded data removed]",
      "text/plain": [
       "<Figure size 720x576 with 2 Axes>"
      ]
     },
     "metadata": {
      "needs_background": "light"
     },
     "output_type": "display_data"
    }
   ],
   "source": [
    "fig = plt.figure(figsize=(10,8))\n",
    "sns.heatmap(corrPearson,annot=True,cmap='RdYlGn', vmin=-1, vmax=+1)\n",
    "\n",
    "plt.title(\"Pearson Correlation\")\n",
    "plt.show()"
   ]
  },
  {
   "cell_type": "code",
   "execution_count": 60,
   "metadata": {},
   "outputs": [
    {
     "data": {
      "image/png": "[encoded data removed]",
      "text/plain": [
       "<Figure size 720x576 with 2 Axes>"
      ]
     },
     "metadata": {
      "needs_background": "light"
     },
     "output_type": "display_data"
    }
   ],
   "source": [
    "fig = plt.figure(figsize=(10,8))\n",
    "sns.heatmap(corrSpearman,annot=True,cmap='RdYlGn', vmin=-1, vmax=+1)\n",
    "\n",
    "plt.title(\"Pearson Correlation\")\n",
    "plt.show()"
   ]
  },
  {
   "cell_type": "markdown",
   "metadata": {},
   "source": [
    "# NORMALITY"
   ]
  },
  {
   "cell_type": "code",
   "execution_count": 61,
   "metadata": {},
   "outputs": [
    {
     "name": "stdout",
     "output_type": "stream",
     "text": [
      "openness ----------\n",
      "ShapiroResult(statistic=0.9279025793075562, pvalue=3.3038738411761415e-11)\n",
      "neuroticism ----------\n",
      "ShapiroResult(statistic=0.9523547887802124, pvalue=1.3906847229350205e-08)\n",
      "conscientiousness ----------\n",
      "ShapiroResult(statistic=0.938087522983551, pvalue=3.393595404688199e-10)\n",
      "agreeableness ----------\n",
      "ShapiroResult(statistic=0.9465893507003784, pvalue=2.8825972719914716e-09)\n",
      "extraversion ----------\n",
      "ShapiroResult(statistic=0.9462653994560242, pvalue=2.647000396649446e-09)\n"
     ]
    }
   ],
   "source": [
    "for i in features:\n",
    "    print(i,\"----------\")\n",
    "    print(shapiro(data[i]))"
   ]
  },
  {
   "cell_type": "markdown",
   "metadata": {},
   "source": [
    "# HOMOGENEITY"
   ]
  },
  {
   "cell_type": "code",
   "execution_count": 62,
   "metadata": {},
   "outputs": [
    {
     "name": "stdout",
     "output_type": "stream",
     "text": [
      "LeveneResult(statistic=6.874371499889138, pvalue=1.7474835327816553e-05)\n"
     ]
    }
   ],
   "source": [
    "print(levene(data[\"openness\"],data[\"neuroticism\"],data[\"conscientiousness\"],\n",
    "             data[\"agreeableness\"],data[\"extraversion\"]))"
   ]
  },
  {
   "cell_type": "markdown",
   "metadata": {},
   "source": [
    "# CONVERSION"
   ]
  },
  {
   "cell_type": "code",
   "execution_count": 64,
   "metadata": {},
   "outputs": [],
   "source": [
    "encode = LabelEncoder()"
   ]
  },
  {
   "cell_type": "code",
   "execution_count": 66,
   "metadata": {},
   "outputs": [
    {
     "name": "stdout",
     "output_type": "stream",
     "text": [
      "Male      159\n",
      "Female    156\n",
      "Name: gender, dtype: int64\n",
      "------------------------------------------------------------------------------------------------------------------------\n",
      "1    159\n",
      "0    156\n",
      "Name: gender, dtype: int64\n",
      "------------------------------------------------------------------------------------------------------------------------\n",
      "serious        153\n",
      "extraverted     77\n",
      "responsible     40\n",
      "lively          24\n",
      "dependable      21\n",
      "Name: Personality, dtype: int64\n",
      "------------------------------------------------------------------------------------------------------------------------\n",
      "4    153\n",
      "1     77\n",
      "3     40\n",
      "2     24\n",
      "0     21\n",
      "Name: Personality, dtype: int64\n",
      "------------------------------------------------------------------------------------------------------------------------\n"
     ]
    }
   ],
   "source": [
    "columns = [\"gender\",\"Personality\"]\n",
    "for i in columns:\n",
    "    print(data[i].value_counts())\n",
    "    print(\"----\"*30)\n",
    "    data[i] = encode.fit_transform(data[i])\n",
    "    print(data[i].value_counts())\n",
    "    print(\"----\"*30)"
   ]
  },
  {
   "cell_type": "markdown",
   "metadata": {},
   "source": [
    "## Personality\n",
    "\n",
    "* Dependable - 0\n",
    "* Extraverted - 1\n",
    "* Lively - 2\n",
    "* Responsible - 3\n",
    "* Serious - 4"
   ]
  },
  {
   "cell_type": "markdown",
   "metadata": {},
   "source": [
    "## Gender\n",
    "\n",
    "* Female - 0\n",
    "* Male - 1"
   ]
  },
  {
   "cell_type": "code",
   "execution_count": 67,
   "metadata": {},
   "outputs": [
    {
     "name": "stdout",
     "output_type": "stream",
     "text": [
      "<class 'pandas.core.frame.DataFrame'>\n",
      "RangeIndex: 315 entries, 0 to 314\n",
      "Data columns (total 9 columns):\n",
      " #   Column             Non-Null Count  Dtype\n",
      "---  ------             --------------  -----\n",
      " 0   gender             315 non-null    int64\n",
      " 1   age                315 non-null    int64\n",
      " 2   openness           315 non-null    int64\n",
      " 3   neuroticism        315 non-null    int64\n",
      " 4   conscientiousness  315 non-null    int64\n",
      " 5   agreeableness      315 non-null    int64\n",
      " 6   extraversion       315 non-null    int64\n",
      " 7   Personality        315 non-null    int64\n",
      " 8   Total              315 non-null    int64\n",
      "dtypes: int64(9)\n",
      "memory usage: 22.3 KB\n",
      "None\n"
     ]
    }
   ],
   "source": [
    "print(data.info())"
   ]
  },
  {
   "cell_type": "code",
   "execution_count": 77,
   "metadata": {},
   "outputs": [],
   "source": [
    "filterwarnings(\"ignore\")"
   ]
  },
  {
   "cell_type": "markdown",
   "metadata": {},
   "source": [
    "# X & Y FOR MODELS"
   ]
  },
  {
   "cell_type": "code",
   "execution_count": 68,
   "metadata": {},
   "outputs": [],
   "source": [
    "x = data.drop(\"Personality\",axis=1)\n",
    "y = data[\"Personality\"]\n",
    "xTrain,xTest,yTrain,yTest = train_test_split(x,y,test_size=0.2,random_state=123)"
   ]
  },
  {
   "cell_type": "markdown",
   "metadata": {},
   "source": [
    "# OLS MODELS & ERROR & TUNING & PREDICT"
   ]
  },
  {
   "cell_type": "code",
   "execution_count": 69,
   "metadata": {},
   "outputs": [
    {
     "name": "stdout",
     "output_type": "stream",
     "text": [
      "                                 OLS Regression Results                                \n",
      "=======================================================================================\n",
      "Dep. Variable:            Personality   R-squared (uncentered):                   0.838\n",
      "Model:                            OLS   Adj. R-squared (uncentered):              0.833\n",
      "Method:                 Least Squares   F-statistic:                              180.5\n",
      "Date:                Thu, 01 Apr 2021   Prob (F-statistic):                    6.69e-93\n",
      "Time:                        14:55:03   Log-Likelihood:                         -413.48\n",
      "No. Observations:                 252   AIC:                                      841.0\n",
      "Df Residuals:                     245   BIC:                                      865.7\n",
      "Df Model:                           7                                                  \n",
      "Covariance Type:            nonrobust                                                  \n",
      "=====================================================================================\n",
      "                        coef    std err          t      P>|t|      [0.025      0.975]\n",
      "-------------------------------------------------------------------------------------\n",
      "gender                0.8878      0.160      5.549      0.000       0.573       1.203\n",
      "age                   0.0693      0.020      3.391      0.001       0.029       0.110\n",
      "openness             -0.1132      0.045     -2.542      0.012      -0.201      -0.025\n",
      "neuroticism          -0.2461      0.040     -6.170      0.000      -0.325      -0.168\n",
      "conscientiousness     0.1624      0.040      4.026      0.000       0.083       0.242\n",
      "agreeableness        -0.0339      0.042     -0.814      0.416      -0.116       0.048\n",
      "extraversion          0.2572      0.047      5.455      0.000       0.164       0.350\n",
      "Total                 0.0263      0.014      1.865      0.063      -0.001       0.054\n",
      "==============================================================================\n",
      "Omnibus:                       23.823   Durbin-Watson:                   2.145\n",
      "Prob(Omnibus):                  0.000   Jarque-Bera (JB):               27.638\n",
      "Skew:                          -0.783   Prob(JB):                     9.97e-07\n",
      "Kurtosis:                       3.425   Cond. No.                     6.17e+15\n",
      "==============================================================================\n",
      "\n",
      "Notes:\n",
      "[1] R² is computed without centering (uncentered) since the model does not contain a constant.\n",
      "[2] Standard Errors assume that the covariance matrix of the errors is correctly specified.\n",
      "[3] The smallest eigenvalue is 7.37e-27. This might indicate that there are\n",
      "strong multicollinearity problems or that the design matrix is singular.\n"
     ]
    }
   ],
   "source": [
    "ols = sm.OLS(yTrain,xTrain).fit()\n",
    "predict = ols.predict(xTest)\n",
    "print(ols.summary())"
   ]
  },
  {
   "cell_type": "markdown",
   "metadata": {},
   "source": [
    "# LINEAR MODELS & ERROR & TUNING & PREDICT"
   ]
  },
  {
   "cell_type": "code",
   "execution_count": 70,
   "metadata": {},
   "outputs": [
    {
     "name": "stdout",
     "output_type": "stream",
     "text": [
      "0.13007837918280846\n",
      "1.145383677741711\n"
     ]
    }
   ],
   "source": [
    "lm = LinearRegression().fit(xTrain,yTrain)\n",
    "predict = lm.predict(xTest)\n",
    "\n",
    "R2CV = cross_val_score(lm,xTest,yTest,cv=10,scoring=\"r2\").mean()\n",
    "print(R2CV)\n",
    "error = -cross_val_score(lm,xTest,yTest,cv=10,scoring=\"neg_mean_squared_error\").mean()\n",
    "print(np.sqrt(error))"
   ]
  },
  {
   "cell_type": "markdown",
   "metadata": {},
   "source": [
    "# PCR MODELS & ERROR & TUNING & PREDICT"
   ]
  },
  {
   "cell_type": "code",
   "execution_count": 137,
   "metadata": {},
   "outputs": [
    {
     "name": "stdout",
     "output_type": "stream",
     "text": [
      "0.1292679638730239\n",
      "1.1457300705690932\n"
     ]
    }
   ],
   "source": [
    "pca = PCA()\n",
    "xRTrain = pca.fit_transform(scale(xTrain))\n",
    "xRTest = pca.fit_transform(scale(xTest))\n",
    "lmP = LinearRegression().fit(xRTrain,yTrain)\n",
    "predict = lm.predict(xRTest)\n",
    "\n",
    "R2CV = cross_val_score(lmP,xRTest,yTest,cv=10,scoring=\"r2\").mean()\n",
    "print(R2CV)\n",
    "error = -cross_val_score(lmP,xRTest,yTest,cv=10,scoring=\"neg_mean_squared_error\").mean()\n",
    "print(np.sqrt(error))"
   ]
  },
  {
   "cell_type": "markdown",
   "metadata": {},
   "source": [
    "# PLS MODELS & ERROR & TUNING & PREDICT"
   ]
  },
  {
   "cell_type": "code",
   "execution_count": 72,
   "metadata": {},
   "outputs": [
    {
     "name": "stdout",
     "output_type": "stream",
     "text": [
      "0.17305496783795574\n",
      "1.1374880636687663\n"
     ]
    }
   ],
   "source": [
    "pls = PLSRegression().fit(xTrain,yTrain)\n",
    "predict = pls.predict(xTest)\n",
    "\n",
    "R2CV = cross_val_score(pls,xTest,yTest,cv=10,scoring=\"r2\").mean()\n",
    "print(R2CV)\n",
    "error = -cross_val_score(pls,xTest,yTest,cv=10,scoring=\"neg_mean_squared_error\").mean()\n",
    "print(np.sqrt(error))"
   ]
  },
  {
   "cell_type": "code",
   "execution_count": 78,
   "metadata": {},
   "outputs": [
    {
     "name": "stdout",
     "output_type": "stream",
     "text": [
      "1 --------------------------------------------------------------------------------\n",
      "0.0864855444332786\n",
      "1.1973889802115782\n",
      "2 --------------------------------------------------------------------------------\n",
      "0.17305496783795574\n",
      "1.1374880636687663\n",
      "3 --------------------------------------------------------------------------------\n",
      "0.13680630117770792\n",
      "1.1428121304281458\n",
      "4 --------------------------------------------------------------------------------\n",
      "0.12866449193328858\n",
      "1.1458826191546723\n",
      "5 --------------------------------------------------------------------------------\n",
      "0.12922850153102067\n",
      "1.1456998729860184\n",
      "6 --------------------------------------------------------------------------------\n",
      "0.12926950530867481\n",
      "1.1457289812470872\n",
      "7 --------------------------------------------------------------------------------\n",
      "0.1292679638730248\n",
      "1.1457300705690925\n",
      "8 --------------------------------------------------------------------------------\n",
      "-1843544.5803585448\n",
      "1954.7608852674323\n",
      "9 --------------------------------------------------------------------------------\n",
      "-1843544.5803585448\n",
      "1954.7608852674323\n",
      "10 --------------------------------------------------------------------------------\n",
      "-1843544.5803585448\n",
      "1954.7608852674323\n",
      "11 --------------------------------------------------------------------------------\n",
      "-1843544.5803585448\n",
      "1954.7608852674323\n",
      "12 --------------------------------------------------------------------------------\n",
      "-1843544.5803585448\n",
      "1954.7608852674323\n",
      "13 --------------------------------------------------------------------------------\n",
      "-1843544.5803585448\n",
      "1954.7608852674323\n",
      "14 --------------------------------------------------------------------------------\n",
      "-1843544.5803585448\n",
      "1954.7608852674323\n",
      "15 --------------------------------------------------------------------------------\n",
      "-1843544.5803585448\n",
      "1954.7608852674323\n",
      "16 --------------------------------------------------------------------------------\n",
      "-1843544.5803585448\n",
      "1954.7608852674323\n",
      "17 --------------------------------------------------------------------------------\n",
      "-1843544.5803585448\n",
      "1954.7608852674323\n",
      "18 --------------------------------------------------------------------------------\n",
      "-1843544.5803585448\n",
      "1954.7608852674323\n",
      "19 --------------------------------------------------------------------------------\n",
      "-1843544.5803585448\n",
      "1954.7608852674323\n"
     ]
    }
   ],
   "source": [
    "for i in range(1,20):\n",
    "    plstuned = PLSRegression(n_components=i).fit(xTrain,yTrain) # best is 2\n",
    "    print(i,\"----\"*20)\n",
    "    R2CVtuned = cross_val_score(plstuned,xTest,yTest,cv=10,scoring=\"r2\").mean()\n",
    "    print(R2CVtuned)\n",
    "    errortuned = -cross_val_score(plstuned,xTest,yTest,cv=10,scoring=\"neg_mean_squared_error\").mean()\n",
    "    print(np.sqrt(errortuned))\n",
    "    \n",
    "plstuned = PLSRegression(n_components=2).fit(xTrain,yTrain)"
   ]
  },
  {
   "cell_type": "markdown",
   "metadata": {},
   "source": [
    "# RIDGE MODELS & ERROR & TUNING & PREDICT"
   ]
  },
  {
   "cell_type": "code",
   "execution_count": 79,
   "metadata": {},
   "outputs": [
    {
     "name": "stdout",
     "output_type": "stream",
     "text": [
      "0.13398054664225612\n",
      "1.1426689504034717\n"
     ]
    }
   ],
   "source": [
    "ridge = Ridge().fit(xTrain,yTrain)\n",
    "predict = ridge.predict(xTest)\n",
    "\n",
    "R2CV = cross_val_score(ridge,xTest,yTest,cv=10,scoring=\"r2\").mean()\n",
    "print(R2CV)\n",
    "error = -cross_val_score(ridge,xTest,yTest,cv=10,scoring=\"neg_mean_squared_error\").mean()\n",
    "print(np.sqrt(error))"
   ]
  },
  {
   "cell_type": "code",
   "execution_count": 80,
   "metadata": {},
   "outputs": [],
   "source": [
    "alph = np.random.uniform(0.01,10,100)"
   ]
  },
  {
   "cell_type": "code",
   "execution_count": 81,
   "metadata": {},
   "outputs": [
    {
     "name": "stdout",
     "output_type": "stream",
     "text": [
      "0.21294441889444488\n",
      "0.05984518457368705\n"
     ]
    }
   ],
   "source": [
    "cv = RidgeCV(alphas=alph,scoring=\"r2\",cv=10,normalize=True).fit(xTrain,yTrain)\n",
    "print(cv.best_score_)\n",
    "print(cv.alpha_)"
   ]
  },
  {
   "cell_type": "code",
   "execution_count": 84,
   "metadata": {},
   "outputs": [
    {
     "name": "stdout",
     "output_type": "stream",
     "text": [
      "0.15062420744339383\n",
      "1.1390871644461191\n"
     ]
    }
   ],
   "source": [
    "ridgetuned = Ridge(alpha=0.05984518457368705,normalize=True).fit(xTrain,yTrain)\n",
    "\n",
    "R2CVtuned = cross_val_score(ridgetuned,xTest,yTest,cv=10,scoring=\"r2\").mean()\n",
    "print(R2CVtuned)\n",
    "errortuned = -cross_val_score(ridgetuned,xTest,yTest,cv=10,scoring=\"neg_mean_squared_error\").mean()\n",
    "print(np.sqrt(errortuned))"
   ]
  },
  {
   "cell_type": "markdown",
   "metadata": {},
   "source": [
    "# LASSO MODELS & ERROR & TUNING & PREDICT"
   ]
  },
  {
   "cell_type": "code",
   "execution_count": 85,
   "metadata": {},
   "outputs": [
    {
     "name": "stdout",
     "output_type": "stream",
     "text": [
      "-0.25794341163838197\n",
      "1.3976296599748894\n"
     ]
    }
   ],
   "source": [
    "lasso = Lasso().fit(xTrain,yTrain)\n",
    "predict = lasso.predict(xTest)\n",
    "\n",
    "R2CV = cross_val_score(lasso,xTest,yTest,cv=10,scoring=\"r2\").mean()\n",
    "print(R2CV)\n",
    "error = -cross_val_score(lasso,xTest,yTest,cv=10,scoring=\"neg_mean_squared_error\").mean()\n",
    "print(np.sqrt(error))"
   ]
  },
  {
   "cell_type": "code",
   "execution_count": 89,
   "metadata": {},
   "outputs": [
    {
     "name": "stdout",
     "output_type": "stream",
     "text": [
      "0.0018064007190031926\n"
     ]
    }
   ],
   "source": [
    "cv = LassoCV(alphas=None,max_iter=1000000,normalize=True,verbose=False).fit(xTrain,yTrain)\n",
    "print(cv.alpha_)"
   ]
  },
  {
   "cell_type": "code",
   "execution_count": 87,
   "metadata": {},
   "outputs": [
    {
     "name": "stdout",
     "output_type": "stream",
     "text": [
      "0.14167019788413118\n",
      "1.1453037496785712\n"
     ]
    }
   ],
   "source": [
    "lassotuned = Lasso(alpha=0.0018064007190031926,normalize=True).fit(xTrain,yTrain)\n",
    "\n",
    "R2CVtuned = cross_val_score(lassotuned,xTest,yTest,cv=10,scoring=\"r2\").mean()\n",
    "print(R2CVtuned)\n",
    "errortuned = -cross_val_score(lassotuned,xTest,yTest,cv=10,scoring=\"neg_mean_squared_error\").mean()\n",
    "print(np.sqrt(errortuned))"
   ]
  },
  {
   "cell_type": "markdown",
   "metadata": {},
   "source": [
    "# ENET MODELS & ERROR & TUNING & PREDICT"
   ]
  },
  {
   "cell_type": "code",
   "execution_count": 91,
   "metadata": {},
   "outputs": [
    {
     "name": "stdout",
     "output_type": "stream",
     "text": [
      "-0.045433949082237676\n",
      "1.2923700556937876\n"
     ]
    }
   ],
   "source": [
    "enet = ElasticNet(random_state=0).fit(xTrain,yTrain)\n",
    "predict = enet.predict(xTest)\n",
    "\n",
    "R2CV = cross_val_score(enet,xTest,yTest,cv=10,scoring=\"r2\").mean()\n",
    "print(R2CV)\n",
    "error = -cross_val_score(enet,xTest,yTest,cv=10,scoring=\"neg_mean_squared_error\").mean()\n",
    "print(np.sqrt(error))"
   ]
  },
  {
   "cell_type": "code",
   "execution_count": 92,
   "metadata": {},
   "outputs": [
    {
     "name": "stdout",
     "output_type": "stream",
     "text": [
      "0.026159013876672955\n"
     ]
    }
   ],
   "source": [
    "cv = ElasticNetCV(alphas=None,random_state=0).fit(xTrain,yTrain)\n",
    "print(cv.alpha_)"
   ]
  },
  {
   "cell_type": "code",
   "execution_count": 93,
   "metadata": {},
   "outputs": [
    {
     "name": "stdout",
     "output_type": "stream",
     "text": [
      "0.13719808888736088\n",
      "1.1443014235843765\n"
     ]
    }
   ],
   "source": [
    "enettuned = ElasticNet(alpha=0.026159013876672955,random_state=0).fit(xTrain,yTrain)\n",
    "\n",
    "R2CVtuned = cross_val_score(enettuned,xTest,yTest,cv=10,scoring=\"r2\").mean()\n",
    "print(R2CVtuned)\n",
    "errortuned = -cross_val_score(enettuned,xTest,yTest,cv=10,scoring=\"neg_mean_squared_error\").mean()\n",
    "print(np.sqrt(errortuned))"
   ]
  },
  {
   "cell_type": "markdown",
   "metadata": {},
   "source": [
    "# KNN MODELS & ERROR & TUNING & PREDICT"
   ]
  },
  {
   "cell_type": "code",
   "execution_count": 94,
   "metadata": {},
   "outputs": [
    {
     "name": "stdout",
     "output_type": "stream",
     "text": [
      "-0.1771945831922297\n",
      "1.3077425114258832\n"
     ]
    }
   ],
   "source": [
    "knnr = KNeighborsRegressor().fit(xTrain,yTrain)\n",
    "predict = knnr.predict(xTest)\n",
    "\n",
    "R2CV = cross_val_score(knnr,xTest,yTest,cv=10,scoring=\"r2\").mean()\n",
    "print(R2CV)\n",
    "error = -cross_val_score(knnr,xTest,yTest,cv=10,scoring=\"neg_mean_squared_error\").mean()\n",
    "print(np.sqrt(error))"
   ]
  },
  {
   "cell_type": "code",
   "execution_count": 95,
   "metadata": {},
   "outputs": [],
   "source": [
    "n = {\"n_neighbors\": np.arange(1,20)}"
   ]
  },
  {
   "cell_type": "code",
   "execution_count": 96,
   "metadata": {},
   "outputs": [
    {
     "name": "stdout",
     "output_type": "stream",
     "text": [
      "{'n_neighbors': 19}\n",
      "0.10793235111136008\n"
     ]
    }
   ],
   "source": [
    "cv = GridSearchCV(knnr,n,cv=10,verbose=False,n_jobs=-1).fit(xTrain,yTrain)\n",
    "print(cv.best_params_)\n",
    "print(cv.best_score_)"
   ]
  },
  {
   "cell_type": "code",
   "execution_count": 97,
   "metadata": {},
   "outputs": [
    {
     "name": "stdout",
     "output_type": "stream",
     "text": [
      "-0.05822300065970345\n",
      "1.2987391529540906\n"
     ]
    }
   ],
   "source": [
    "knnrtuned = KNeighborsRegressor(n_neighbors=19).fit(xTrain,yTrain)\n",
    "\n",
    "R2CVtuned = cross_val_score(knnrtuned,xTest,yTest,cv=10,scoring=\"r2\").mean()\n",
    "print(R2CVtuned)\n",
    "errortuned = -cross_val_score(knnrtuned,xTest,yTest,cv=10,scoring=\"neg_mean_squared_error\").mean()\n",
    "print(np.sqrt(errortuned))"
   ]
  },
  {
   "cell_type": "markdown",
   "metadata": {},
   "source": [
    "# ANN R MODELS & ERROR & TUNING & PREDICT"
   ]
  },
  {
   "cell_type": "code",
   "execution_count": 98,
   "metadata": {},
   "outputs": [],
   "source": [
    "scaler = StandardScaler().fit(xTrain,yTrain)\n",
    "xRTrain = scaler.transform(xTrain)\n",
    "xRTest = scaler.transform(xTest)"
   ]
  },
  {
   "cell_type": "code",
   "execution_count": 99,
   "metadata": {},
   "outputs": [
    {
     "name": "stdout",
     "output_type": "stream",
     "text": [
      "0.00012893765305277416\n",
      "1.1861605191930944\n"
     ]
    }
   ],
   "source": [
    "mlpr = MLPRegressor().fit(xRTrain,yTrain)\n",
    "predict = mlpr.predict(xTest)\n",
    "\n",
    "R2CV = cross_val_score(mlpr,xRTest,yTest,cv=10,scoring=\"r2\").mean()\n",
    "print(R2CV)\n",
    "error = -cross_val_score(mlpr,xRTest,yTest,cv=10,scoring=\"neg_mean_squared_error\").mean()\n",
    "print(np.sqrt(error))"
   ]
  },
  {
   "cell_type": "code",
   "execution_count": 102,
   "metadata": {},
   "outputs": [],
   "source": [
    "params = {\"alpha\":[0.0001,0.001,0.01,0.1,0.2],\n",
    "         \"hidden_layer_sizes\": [(20,20),(100,200,150),(300,200,250)],\n",
    "         \"activation\": [\"relu\",\"logistic\"]}"
   ]
  },
  {
   "cell_type": "code",
   "execution_count": 103,
   "metadata": {},
   "outputs": [
    {
     "name": "stdout",
     "output_type": "stream",
     "text": [
      "{'activation': 'logistic', 'alpha': 0.01, 'hidden_layer_sizes': (100, 200, 150)}\n",
      "0.2523470408383023\n"
     ]
    }
   ],
   "source": [
    "cv = GridSearchCV(mlpr,params,cv=10,verbose=False,n_jobs=-1).fit(xRTrain,yTrain)\n",
    "print(cv.best_params_)\n",
    "print(cv.best_score_)"
   ]
  },
  {
   "cell_type": "code",
   "execution_count": 104,
   "metadata": {},
   "outputs": [
    {
     "name": "stdout",
     "output_type": "stream",
     "text": [
      "-0.30267836487330363\n",
      "1.5304036007460289\n"
     ]
    }
   ],
   "source": [
    "mlprtuned = MLPRegressor(activation=\"logistic\",alpha=0.01,\n",
    "                         hidden_layer_sizes=(100,200,150)).fit(xRTrain,yTrain)\n",
    "\n",
    "R2CVtuned = cross_val_score(mlprtuned,xRTest,yTest,cv=10,scoring=\"r2\").mean()\n",
    "print(R2CVtuned)\n",
    "errortuned = -cross_val_score(mlprtuned,xRTest,yTest,cv=10,scoring=\"neg_mean_squared_error\").mean()\n",
    "print(np.sqrt(errortuned))"
   ]
  },
  {
   "cell_type": "markdown",
   "metadata": {},
   "source": [
    "# REGRESSION TREES(CART) MODELS & ERROR & TUNING & PREDICT"
   ]
  },
  {
   "cell_type": "code",
   "execution_count": 105,
   "metadata": {},
   "outputs": [
    {
     "name": "stdout",
     "output_type": "stream",
     "text": [
      "-0.46823101369374853\n",
      "1.482436861258869\n"
     ]
    }
   ],
   "source": [
    "cartr = DecisionTreeRegressor(random_state=42).fit(xTrain,yTrain)\n",
    "predict = cartr.predict(xTest)\n",
    "\n",
    "R2CV = cross_val_score(cartr,xTest,yTest,cv=10,scoring=\"r2\").mean()\n",
    "print(R2CV)\n",
    "error = -cross_val_score(cartr,xTest,yTest,cv=10,scoring=\"neg_mean_squared_error\").mean()\n",
    "print(np.sqrt(error))"
   ]
  },
  {
   "cell_type": "code",
   "execution_count": 106,
   "metadata": {},
   "outputs": [],
   "source": [
    "params = {\"min_samples_split\":range(2,100),\n",
    "         \"max_leaf_nodes\":range(2,10)}"
   ]
  },
  {
   "cell_type": "code",
   "execution_count": 107,
   "metadata": {},
   "outputs": [
    {
     "name": "stdout",
     "output_type": "stream",
     "text": [
      "{'max_leaf_nodes': 7, 'min_samples_split': 25}\n",
      "0.16233986052285526\n"
     ]
    }
   ],
   "source": [
    "cv = GridSearchCV(cartr,params,cv=10,verbose=False,n_jobs=-1).fit(xTrain,yTrain)\n",
    "print(cv.best_params_)\n",
    "print(cv.best_score_)"
   ]
  },
  {
   "cell_type": "code",
   "execution_count": 138,
   "metadata": {},
   "outputs": [
    {
     "name": "stdout",
     "output_type": "stream",
     "text": [
      "-0.0767292561985684\n",
      "1.3331397962623743\n"
     ]
    }
   ],
   "source": [
    "cartrtuned = DecisionTreeRegressor(max_leaf_nodes=7,min_samples_split=25,random_state=42).fit(xTrain,yTrain)\n",
    "\n",
    "R2CVtuned = cross_val_score(cartrtuned,xTest,yTest,cv=10,scoring=\"r2\").mean()\n",
    "print(R2CVtuned)\n",
    "errortuned = -cross_val_score(cartrtuned,xTest,yTest,cv=10,scoring=\"neg_mean_squared_error\").mean()\n",
    "print(np.sqrt(errortuned))"
   ]
  },
  {
   "cell_type": "markdown",
   "metadata": {},
   "source": [
    "# BAGGING MODELS & ERROR & TUNING & PREDICT"
   ]
  },
  {
   "cell_type": "code",
   "execution_count": 109,
   "metadata": {},
   "outputs": [
    {
     "name": "stdout",
     "output_type": "stream",
     "text": [
      "-0.03193053097426647\n",
      "1.2468773164702462\n"
     ]
    }
   ],
   "source": [
    "baggr = BaggingRegressor(random_state=42,bootstrap_features=True).fit(xTrain,yTrain)\n",
    "predict = baggr.predict(xTest)\n",
    "\n",
    "R2CV = cross_val_score(baggr,xTest,yTest,cv=10,scoring=\"r2\").mean()\n",
    "print(R2CV)\n",
    "error = -cross_val_score(baggr,xTest,yTest,cv=10,scoring=\"neg_mean_squared_error\").mean()\n",
    "print(np.sqrt(error))"
   ]
  },
  {
   "cell_type": "code",
   "execution_count": 110,
   "metadata": {},
   "outputs": [],
   "source": [
    "e = {\"n_estimators\": range(2,30)}"
   ]
  },
  {
   "cell_type": "code",
   "execution_count": 111,
   "metadata": {},
   "outputs": [
    {
     "name": "stdout",
     "output_type": "stream",
     "text": [
      "{'n_estimators': 29}\n",
      "0.20962731447363675\n"
     ]
    }
   ],
   "source": [
    "cv = GridSearchCV(baggr,e,cv=10,verbose=False,n_jobs=-1).fit(xTrain,yTrain)\n",
    "print(cv.best_params_)\n",
    "print(cv.best_score_)"
   ]
  },
  {
   "cell_type": "code",
   "execution_count": 112,
   "metadata": {},
   "outputs": [
    {
     "name": "stdout",
     "output_type": "stream",
     "text": [
      "0.16318126769690752\n",
      "1.159964336784772\n"
     ]
    }
   ],
   "source": [
    "baggrtuned = BaggingRegressor(random_state=42,bootstrap_features=True,\n",
    "                             n_estimators=29).fit(xTrain,yTrain)\n",
    "\n",
    "R2CVtuned = cross_val_score(baggrtuned,xTest,yTest,cv=10,scoring=\"r2\").mean()\n",
    "print(R2CVtuned)\n",
    "errortuned = -cross_val_score(baggrtuned,xTest,yTest,cv=10,scoring=\"neg_mean_squared_error\").mean()\n",
    "print(np.sqrt(errortuned))"
   ]
  },
  {
   "cell_type": "markdown",
   "metadata": {},
   "source": [
    "# RANDOM FORESTS (RF) R MODELS & ERROR & TUNING & PREDICT"
   ]
  },
  {
   "cell_type": "code",
   "execution_count": 113,
   "metadata": {},
   "outputs": [
    {
     "name": "stdout",
     "output_type": "stream",
     "text": [
      "0.26678804567712777\n",
      "1.0973128433543808\n"
     ]
    }
   ],
   "source": [
    "rfr = RandomForestRegressor(random_state=42).fit(xTrain,yTrain)\n",
    "predict = rfr.predict(xTest)\n",
    "\n",
    "R2CV = cross_val_score(rfr,xTest,yTest,cv=10,scoring=\"r2\").mean()\n",
    "print(R2CV)\n",
    "error = -cross_val_score(rfr,xTest,yTest,cv=10,scoring=\"neg_mean_squared_error\").mean()\n",
    "print(np.sqrt(error))"
   ]
  },
  {
   "cell_type": "code",
   "execution_count": 114,
   "metadata": {},
   "outputs": [],
   "source": [
    "params = {\"max_depth\":range(1,20),\n",
    "         \"max_features\":[3,5,10,15, 20],\n",
    "         \"n_estimators\": [200,300,500,1000,2000]}"
   ]
  },
  {
   "cell_type": "code",
   "execution_count": 115,
   "metadata": {},
   "outputs": [
    {
     "name": "stdout",
     "output_type": "stream",
     "text": [
      "{'max_depth': 13, 'max_features': 3, 'n_estimators': 500}\n",
      "0.25225183026735043\n"
     ]
    }
   ],
   "source": [
    "cv = GridSearchCV(rfr,params,cv=10,verbose=False,n_jobs=-1).fit(xTrain,yTrain)\n",
    "print(cv.best_params_)\n",
    "print(cv.best_score_)"
   ]
  },
  {
   "cell_type": "code",
   "execution_count": 116,
   "metadata": {},
   "outputs": [
    {
     "name": "stdout",
     "output_type": "stream",
     "text": [
      "0.1675542945241507\n",
      "1.1523589139962715\n"
     ]
    }
   ],
   "source": [
    "rfrtuned = RandomForestRegressor(random_state=42,max_depth=13,\n",
    "                                 max_features=3,n_estimators=500).fit(xTrain,yTrain)\n",
    "\n",
    "R2CVtuned = cross_val_score(rfrtuned,xTest,yTest,cv=10,scoring=\"r2\").mean()\n",
    "print(R2CVtuned)\n",
    "errortuned = -cross_val_score(rfrtuned,xTest,yTest,cv=10,scoring=\"neg_mean_squared_error\").mean()\n",
    "print(np.sqrt(errortuned))"
   ]
  },
  {
   "cell_type": "markdown",
   "metadata": {},
   "source": [
    "# GRADIENT BOOSTING MACHINES (GBM) MODELS & ERROR & TUNING & PREDICT"
   ]
  },
  {
   "cell_type": "code",
   "execution_count": 117,
   "metadata": {},
   "outputs": [
    {
     "name": "stdout",
     "output_type": "stream",
     "text": [
      "0.09178827880187843\n",
      "1.1270889645020885\n"
     ]
    }
   ],
   "source": [
    "gbmr = GradientBoostingRegressor().fit(xTrain,yTrain)\n",
    "predict = gbmr.predict(xTest)\n",
    "\n",
    "R2CV = cross_val_score(gbmr,xTest,yTest,cv=10,scoring=\"r2\").mean()\n",
    "print(R2CV)\n",
    "error = -cross_val_score(gbmr,xTest,yTest,cv=10,scoring=\"neg_mean_squared_error\").mean()\n",
    "print(np.sqrt(error))"
   ]
  },
  {
   "cell_type": "code",
   "execution_count": 118,
   "metadata": {},
   "outputs": [],
   "source": [
    "params = {\"learning_rate\": [0.001, 0.01, 0.1, 0.2],\n",
    "          \"max_depth\": [3, 5, 8, 10],\n",
    "          \"n_estimators\": [200, 300, 500, 1000, 2000],\n",
    "          \"subsample\": [1, 0.5, 0.75]}"
   ]
  },
  {
   "cell_type": "code",
   "execution_count": 119,
   "metadata": {},
   "outputs": [
    {
     "name": "stdout",
     "output_type": "stream",
     "text": [
      "{'learning_rate': 0.01, 'max_depth': 3, 'n_estimators': 300, 'subsample': 0.5}\n",
      "0.25352853518096796\n"
     ]
    }
   ],
   "source": [
    "cv = GridSearchCV(gbmr,params,cv=10,verbose=False,n_jobs=-1).fit(xTrain,yTrain)\n",
    "print(cv.best_params_)\n",
    "print(cv.best_score_)"
   ]
  },
  {
   "cell_type": "code",
   "execution_count": 120,
   "metadata": {},
   "outputs": [
    {
     "name": "stdout",
     "output_type": "stream",
     "text": [
      "0.20393531806727222\n",
      "1.1366160437386206\n"
     ]
    }
   ],
   "source": [
    "gbmrtuned = GradientBoostingRegressor(learning_rate=0.01,max_depth=3,\n",
    "                                      n_estimators=300,subsample=0.5).fit(xTrain,yTrain)\n",
    "\n",
    "R2CVtuned = cross_val_score(gbmrtuned,xTest,yTest,cv=10,scoring=\"r2\").mean()\n",
    "print(R2CVtuned)\n",
    "errortuned = -cross_val_score(gbmrtuned,xTest,yTest,cv=10,scoring=\"neg_mean_squared_error\").mean()\n",
    "print(np.sqrt(errortuned))"
   ]
  },
  {
   "cell_type": "markdown",
   "metadata": {},
   "source": [
    "# EXTREME GRADIENT BOOSTING (XGBOOST) R MODELS & ERROR & TUNING & PREDICT"
   ]
  },
  {
   "cell_type": "code",
   "execution_count": 121,
   "metadata": {},
   "outputs": [
    {
     "name": "stdout",
     "output_type": "stream",
     "text": [
      "0.07842681477984167\n",
      "1.1971549675445117\n"
     ]
    }
   ],
   "source": [
    "xgr = XGBRegressor().fit(xTrain,yTrain)\n",
    "predict = xgr.predict(xTest)\n",
    "\n",
    "R2CV = cross_val_score(xgr,xTest,yTest,cv=10,scoring=\"r2\").mean()\n",
    "print(R2CV)\n",
    "error = -cross_val_score(xgr,xTest,yTest,cv=10,scoring=\"neg_mean_squared_error\").mean()\n",
    "print(np.sqrt(error))"
   ]
  },
  {
   "cell_type": "code",
   "execution_count": 122,
   "metadata": {},
   "outputs": [],
   "source": [
    "params = {\"colsample_bytree\": [0.1, 0.5, 0.6, 0.9, 1],\n",
    "          \"n_estimators\": [100, 200, 500, 1000],\n",
    "          \"max_depth\": [2, 3, 4, 5],\n",
    "          \"learning_rate\": [0.1, 0.01, 0.5]}"
   ]
  },
  {
   "cell_type": "code",
   "execution_count": null,
   "metadata": {},
   "outputs": [],
   "source": [
    "cv = GridSearchCV(xgr,params,cv=10,verbose=False,n_jobs=-1).fit(xTrain,yTrain)\n",
    "print(cv.best_params_)\n",
    "print(cv.best_score_)"
   ]
  },
  {
   "cell_type": "code",
   "execution_count": 126,
   "metadata": {},
   "outputs": [
    {
     "name": "stdout",
     "output_type": "stream",
     "text": [
      "-0.188015319391594\n",
      "1.391641298283493\n"
     ]
    }
   ],
   "source": [
    "xgrtuned = XGBRegressor(colsample_bytree=0.5,n_estimators=1000,\n",
    "                       max_depth=5,learning_rate=0.5).fit(xTrain,yTrain)\n",
    "\n",
    "R2CVtuned = cross_val_score(xgrtuned,xTest,yTest,cv=10,scoring=\"r2\").mean()\n",
    "print(R2CVtuned)\n",
    "errortuned = -cross_val_score(xgrtuned,xTest,yTest,cv=10,scoring=\"neg_mean_squared_error\").mean()\n",
    "print(np.sqrt(errortuned))"
   ]
  },
  {
   "cell_type": "markdown",
   "metadata": {},
   "source": [
    "# LIGHT GRADIENT BOOSTING (LIGHT GBM) R MODELS & ERROR & TUNING & PREDICT"
   ]
  },
  {
   "cell_type": "code",
   "execution_count": 127,
   "metadata": {},
   "outputs": [
    {
     "name": "stdout",
     "output_type": "stream",
     "text": [
      "-0.050360411953372555\n",
      "1.2914966363812102\n"
     ]
    }
   ],
   "source": [
    "lgbmr = LGBMRegressor().fit(xTrain,yTrain)\n",
    "predict = lgbmr.predict(xTest)\n",
    "\n",
    "R2CV = cross_val_score(lgbmr,xTest,yTest,cv=10,scoring=\"r2\").mean()\n",
    "print(R2CV)\n",
    "error = -cross_val_score(lgbmr,xTest,yTest,cv=10,scoring=\"neg_mean_squared_error\").mean()\n",
    "print(np.sqrt(error))"
   ]
  },
  {
   "cell_type": "code",
   "execution_count": 128,
   "metadata": {},
   "outputs": [],
   "source": [
    "params = {\n",
    "    \"n_estimators\": [100, 200, 500, 1000],\n",
    "    \"max_depth\": [2, 3, 4, 5, 6],\n",
    "    \"learning_rate\": [0.1, 0.01, 0.5]\n",
    "}"
   ]
  },
  {
   "cell_type": "code",
   "execution_count": 130,
   "metadata": {},
   "outputs": [
    {
     "name": "stdout",
     "output_type": "stream",
     "text": [
      "{'learning_rate': 0.01, 'max_depth': 2, 'n_estimators': 1000}\n",
      "0.2602833332801274\n"
     ]
    }
   ],
   "source": [
    "cv = GridSearchCV(lgbmr,params,cv=10,verbose=False,n_jobs=-1).fit(xTrain,yTrain)\n",
    "print(cv.best_params_)\n",
    "print(cv.best_score_)"
   ]
  },
  {
   "cell_type": "code",
   "execution_count": 131,
   "metadata": {},
   "outputs": [
    {
     "name": "stdout",
     "output_type": "stream",
     "text": [
      "-0.04710563744814207\n",
      "1.2904299536538673\n"
     ]
    }
   ],
   "source": [
    "lgbmrtuned = LGBMRegressor(learning_rate=0.01,max_depth=2,\n",
    "                           n_estimators=1000).fit(xTrain,yTrain)\n",
    "\n",
    "R2CVtuned = cross_val_score(lgbmrtuned,xTest,yTest,cv=10,scoring=\"r2\").mean()\n",
    "print(R2CVtuned)\n",
    "errortuned = -cross_val_score(lgbmrtuned,xTest,yTest,cv=10,scoring=\"neg_mean_squared_error\").mean()\n",
    "print(np.sqrt(errortuned))"
   ]
  },
  {
   "cell_type": "markdown",
   "metadata": {},
   "source": [
    "# CATEGORY BOOSTING (CATBOOST) R MODELS & ERROR & TUNING & PREDICT"
   ]
  },
  {
   "cell_type": "code",
   "execution_count": 133,
   "metadata": {},
   "outputs": [
    {
     "name": "stdout",
     "output_type": "stream",
     "text": [
      "0.15066602367050064\n",
      "1.136795109777319\n"
     ]
    }
   ],
   "source": [
    "catbr = CatBoostRegressor(verbose=False).fit(xTrain,yTrain)\n",
    "predict = catbr.predict(xTest)\n",
    "\n",
    "R2CV = cross_val_score(catbr,xTest,yTest,cv=10,scoring=\"r2\").mean()\n",
    "print(R2CV)\n",
    "error = -cross_val_score(catbr,xTest,yTest,cv=10,scoring=\"neg_mean_squared_error\").mean()\n",
    "print(np.sqrt(error))"
   ]
  },
  {
   "cell_type": "code",
   "execution_count": 134,
   "metadata": {},
   "outputs": [],
   "source": [
    "params = {\"depth\": [2,3,4,5,6,7],\n",
    "         \"learning_rate\": [0.1,0.01,0.001,0.5]}"
   ]
  },
  {
   "cell_type": "code",
   "execution_count": 135,
   "metadata": {},
   "outputs": [
    {
     "name": "stdout",
     "output_type": "stream",
     "text": [
      "{'depth': 2, 'learning_rate': 0.01}\n",
      "0.24838341685627202\n"
     ]
    }
   ],
   "source": [
    "cv = GridSearchCV(catbr,params,cv=10,verbose=False,n_jobs=-1).fit(xTrain,yTrain)\n",
    "print(cv.best_params_)\n",
    "print(cv.best_score_)"
   ]
  },
  {
   "cell_type": "code",
   "execution_count": 136,
   "metadata": {},
   "outputs": [
    {
     "name": "stdout",
     "output_type": "stream",
     "text": [
      "0.10037553901474028\n",
      "1.1840005656892258\n"
     ]
    }
   ],
   "source": [
    "catbrtuned = CatBoostRegressor(verbose=False,depth=2,learning_rate=0.01).fit(xTrain,yTrain)\n",
    "\n",
    "R2CVtuned = cross_val_score(catbrtuned,xTest,yTest,cv=10,scoring=\"r2\").mean()\n",
    "print(R2CVtuned)\n",
    "errortuned = -cross_val_score(catbrtuned,xTest,yTest,cv=10,scoring=\"neg_mean_squared_error\").mean()\n",
    "print(np.sqrt(errortuned))"
   ]
  },
  {
   "cell_type": "markdown",
   "metadata": {},
   "source": [
    "# COMPARISON REGRESSOR"
   ]
  },
  {
   "cell_type": "code",
   "execution_count": 140,
   "metadata": {},
   "outputs": [],
   "source": [
    "models = [lm,lmP,plstuned,ridgetuned,lassotuned,enettuned,\n",
    "         knnrtuned,mlprtuned,cartrtuned,baggrtuned,rfrtuned,gbmrtuned,xgrtuned,lgbmrtuned,catbrtuned]"
   ]
  },
  {
   "cell_type": "code",
   "execution_count": 141,
   "metadata": {},
   "outputs": [
    {
     "name": "stdout",
     "output_type": "stream",
     "text": [
      "----------------------------\n",
      "LinearRegression: \n",
      "Accuracy: -2.852234655234849\n",
      "----------------------------\n",
      "LinearRegression: \n",
      "Accuracy: -2.852234655234849\n",
      "----------------------------\n",
      "PLSRegression: \n",
      "Accuracy: -386.8327031194578\n",
      "----------------------------\n",
      "Ridge: \n",
      "Accuracy: 0.3449929360305598\n",
      "----------------------------\n",
      "Lasso: \n",
      "Accuracy: 0.33487913676989967\n",
      "----------------------------\n",
      "ElasticNet: \n",
      "Accuracy: 0.35607791792740817\n",
      "----------------------------\n",
      "KNeighborsRegressor: \n",
      "Accuracy: 0.24592381175129208\n",
      "----------------------------\n",
      "MLPRegressor: \n",
      "Accuracy: -2.8193140218442285\n",
      "----------------------------\n",
      "DecisionTreeRegressor: \n",
      "Accuracy: 0.22846615323270714\n",
      "----------------------------\n",
      "BaggingRegressor: \n",
      "Accuracy: 0.2290050468263899\n",
      "----------------------------\n",
      "RandomForestRegressor: \n",
      "Accuracy: 0.3176673031004319\n",
      "----------------------------\n",
      "GradientBoostingRegressor: \n",
      "Accuracy: 0.3557820125844049\n",
      "----------------------------\n",
      "XGBRegressor: \n",
      "Accuracy: -0.045306133170623486\n",
      "----------------------------\n",
      "LGBMRegressor: \n",
      "Accuracy: 0.36762871356538873\n",
      "----------------------------\n",
      "CatBoostRegressor: \n",
      "Accuracy: 0.34729164179214156\n"
     ]
    }
   ],
   "source": [
    "for model in models:\n",
    "    name = model.__class__.__name__\n",
    "    predict = model.predict(xTest)\n",
    "    accuracy = r2_score(yTest, predict)\n",
    "    print(\"-\" * 28)\n",
    "    print(name + \": \")\n",
    "    print(f\"Accuracy: {accuracy}\")"
   ]
  },
  {
   "cell_type": "markdown",
   "metadata": {},
   "source": [
    "# COMPARISON REGRESSOR FOR TRAIN"
   ]
  },
  {
   "cell_type": "code",
   "execution_count": 142,
   "metadata": {},
   "outputs": [
    {
     "name": "stdout",
     "output_type": "stream",
     "text": [
      "----------------------------\n",
      "LinearRegression: \n",
      "Accuracy: -2.43618632763295\n",
      "----------------------------\n",
      "LinearRegression: \n",
      "Accuracy: -2.43618632763295\n",
      "----------------------------\n",
      "PLSRegression: \n",
      "Accuracy: -487.659329166737\n",
      "----------------------------\n",
      "Ridge: \n",
      "Accuracy: 0.29058859020199046\n",
      "----------------------------\n",
      "Lasso: \n",
      "Accuracy: 0.28864745623079036\n",
      "----------------------------\n",
      "ElasticNet: \n",
      "Accuracy: 0.2903353084365706\n",
      "----------------------------\n",
      "KNeighborsRegressor: \n",
      "Accuracy: 0.22561844107417262\n",
      "----------------------------\n",
      "MLPRegressor: \n",
      "Accuracy: -2.690956295037808\n",
      "----------------------------\n",
      "DecisionTreeRegressor: \n",
      "Accuracy: 0.34462029265936356\n",
      "----------------------------\n",
      "BaggingRegressor: \n",
      "Accuracy: 0.8572729497710165\n",
      "----------------------------\n",
      "RandomForestRegressor: \n",
      "Accuracy: 0.8987125325565061\n",
      "----------------------------\n",
      "GradientBoostingRegressor: \n",
      "Accuracy: 0.561500407083835\n",
      "----------------------------\n",
      "XGBRegressor: \n",
      "Accuracy: 0.999993605073317\n",
      "----------------------------\n",
      "LGBMRegressor: \n",
      "Accuracy: 0.4843924311110833\n",
      "----------------------------\n",
      "CatBoostRegressor: \n",
      "Accuracy: 0.461350020106603\n"
     ]
    }
   ],
   "source": [
    "for model in models:\n",
    "    name = model.__class__.__name__\n",
    "    predict = model.predict(xTrain)\n",
    "    accuracy = r2_score(yTrain, predict)\n",
    "    print(\"-\" * 28)\n",
    "    print(name + \": \")\n",
    "    print(f\"Accuracy: {accuracy}\")"
   ]
  },
  {
   "cell_type": "markdown",
   "metadata": {},
   "source": [
    "# COMPARISON REGRESSOR VISUALIZATION"
   ]
  },
  {
   "cell_type": "code",
   "execution_count": 150,
   "metadata": {},
   "outputs": [
    {
     "data": {
      "image/png": "[encoded data removed]",
      "text/plain": [
       "<Figure size 432x288 with 1 Axes>"
      ]
     },
     "metadata": {
      "needs_background": "light"
     },
     "output_type": "display_data"
    }
   ],
   "source": [
    "r = pd.DataFrame(columns=[\"MODELS\",\"ACC\"])\n",
    "for model in models:\n",
    "    name = model.__class__.__name__\n",
    "    predict = model.predict(xTest)\n",
    "    accuracy = r2_score(yTest, predict)\n",
    "    result = pd.DataFrame([[name,accuracy*100]],columns=[\"MODELS\",\"ACC\"])\n",
    "    r = r.append(result)\n",
    "    \n",
    "sns.barplot(x=\"ACC\",y=\"MODELS\",data=r,color=\"r\")\n",
    "plt.xlabel(\"ACC\")\n",
    "plt.xlim(0,50)\n",
    "plt.title(\"MODEL ACCURACY COMPARISON\")\n",
    "plt.show()"
   ]
  },
  {
   "cell_type": "markdown",
   "metadata": {},
   "source": [
    "# COMPARISON REGRESSOR FOR TRAIN VISUALIZATION"
   ]
  },
  {
   "cell_type": "code",
   "execution_count": 152,
   "metadata": {},
   "outputs": [
    {
     "data": {
      "image/png": "[encoded data removed]",
      "text/plain": [
       "<Figure size 432x288 with 1 Axes>"
      ]
     },
     "metadata": {
      "needs_background": "light"
     },
     "output_type": "display_data"
    }
   ],
   "source": [
    "r = pd.DataFrame(columns=[\"MODELS\",\"ACC\"])\n",
    "for model in models:\n",
    "    name = model.__class__.__name__\n",
    "    predict = model.predict(xTrain)\n",
    "    accuracy = r2_score(yTrain, predict)\n",
    "    result = pd.DataFrame([[name,accuracy*100]],columns=[\"MODELS\",\"ACC\"])\n",
    "    r = r.append(result)\n",
    "    \n",
    "sns.barplot(x=\"ACC\",y=\"MODELS\",data=r,color=\"r\")\n",
    "plt.xlabel(\"ACC\")\n",
    "plt.xlim(0,100)\n",
    "plt.title(\"MODEL ACCURACY COMPARISON\")\n",
    "plt.show()"
   ]
  },
  {
   "cell_type": "markdown",
   "metadata": {},
   "source": [
    "# LOGISTIC REGRESSION MODELS & ERROR & TUNING & PREDICT"
   ]
  },
  {
   "cell_type": "code",
   "execution_count": 156,
   "metadata": {},
   "outputs": [
    {
     "name": "stdout",
     "output_type": "stream",
     "text": [
      "0.7301587301587301\n",
      "0.6357142857142857\n",
      "1.126872339638022\n",
      "------------------------------------------------------------------------------------------------------------------------\n"
     ]
    }
   ],
   "source": [
    "lj = LogisticRegression(solver=\"liblinear\").fit(xTrain,yTrain)\n",
    "predict = lj.predict(xTest)\n",
    "\n",
    "\n",
    "print(accuracy_score(yTest,predict))\n",
    "R2CV = cross_val_score(lj,xTest,yTest,cv=10).mean()\n",
    "print(R2CV)\n",
    "error = mean_squared_error(yTest,predict)\n",
    "print(np.sqrt(error))\n",
    "print(\"----\"*30)\n"
   ]
  },
  {
   "cell_type": "markdown",
   "metadata": {},
   "source": [
    "# GAUSSIAN NAIVE BAYES MODELS & ERROR & TUNING & PREDICT"
   ]
  },
  {
   "cell_type": "code",
   "execution_count": 157,
   "metadata": {},
   "outputs": [
    {
     "name": "stdout",
     "output_type": "stream",
     "text": [
      "0.6984126984126984\n",
      "0.5476190476190476\n",
      "1.2661653143150793\n",
      "------------------------------------------------------------------------------------------------------------------------\n"
     ]
    }
   ],
   "source": [
    "gnb = GaussianNB().fit(xTrain,yTrain)\n",
    "predict = gnb.predict(xTest)\n",
    "\n",
    "print(accuracy_score(yTest,predict))\n",
    "R2CV = cross_val_score(gnb,xTest,yTest,cv=10).mean()\n",
    "print(R2CV)\n",
    "error = mean_squared_error(yTest,predict)\n",
    "print(np.sqrt(error))\n",
    "print(\"----\"*30)"
   ]
  },
  {
   "cell_type": "markdown",
   "metadata": {},
   "source": [
    "# KNN C MODELS & ERROR & TUNING & PREDICT"
   ]
  },
  {
   "cell_type": "code",
   "execution_count": 161,
   "metadata": {},
   "outputs": [
    {
     "name": "stdout",
     "output_type": "stream",
     "text": [
      "0.6825396825396826\n",
      "0.5857142857142856\n",
      "1.3743685418725535\n"
     ]
    }
   ],
   "source": [
    "knnc = KNeighborsClassifier().fit(xTrain,yTrain)\n",
    "predict = knnc.predict(xTest)\n",
    "\n",
    "print(accuracy_score(yTest,predict))\n",
    "R2CV = cross_val_score(knnc,xTest,yTest,cv=10).mean()\n",
    "print(R2CV)\n",
    "error = mean_squared_error(yTest,predict)\n",
    "print(np.sqrt(error))"
   ]
  },
  {
   "cell_type": "code",
   "execution_count": 159,
   "metadata": {},
   "outputs": [],
   "source": [
    "params = {\"n_neighbors\": np.arange(1,50)}"
   ]
  },
  {
   "cell_type": "code",
   "execution_count": 160,
   "metadata": {},
   "outputs": [
    {
     "name": "stdout",
     "output_type": "stream",
     "text": [
      "{'n_neighbors': 12}\n",
      "0.5718461538461538\n"
     ]
    }
   ],
   "source": [
    "cv = GridSearchCV(knnc,params,cv=10,verbose=False,n_jobs=-1).fit(xTrain,yTrain)\n",
    "print(cv.best_params_)\n",
    "print(cv.best_score_)"
   ]
  },
  {
   "cell_type": "code",
   "execution_count": 162,
   "metadata": {},
   "outputs": [
    {
     "name": "stdout",
     "output_type": "stream",
     "text": [
      "0.6825396825396826\n",
      "0.5357142857142857\n",
      "1.3273676061682242\n",
      "------------------------------------------------------------------------------------------------------------------------\n"
     ]
    }
   ],
   "source": [
    "knnctuned = KNeighborsClassifier(n_neighbors=12).fit(xTrain,yTrain)\n",
    "predicttuned = knnctuned.predict(xTest)\n",
    "\n",
    "print(accuracy_score(yTest,predicttuned))\n",
    "R2CVtuned = cross_val_score(knnctuned,xTest,yTest,cv=10).mean()\n",
    "print(R2CVtuned)\n",
    "errortuned = mean_squared_error(yTest,predicttuned)\n",
    "print(np.sqrt(errortuned))\n",
    "print(\"----\"*30)"
   ]
  },
  {
   "cell_type": "markdown",
   "metadata": {},
   "source": [
    "# ANN C MODELS & ERROR & TUNING & PREDICT"
   ]
  },
  {
   "cell_type": "code",
   "execution_count": 165,
   "metadata": {},
   "outputs": [],
   "source": [
    "scaler = StandardScaler().fit(xTrain, yTrain)\n",
    "xRTrain = scaler.transform(xTrain)\n",
    "xRTest = scaler.transform(xTest)"
   ]
  },
  {
   "cell_type": "code",
   "execution_count": 167,
   "metadata": {},
   "outputs": [
    {
     "name": "stdout",
     "output_type": "stream",
     "text": [
      "0.7936507936507936\n",
      "0.669047619047619\n",
      "1.2084359562332876\n"
     ]
    }
   ],
   "source": [
    "mlpc = MLPClassifier().fit(xRTrain,yTrain)\n",
    "predict = mlpc.predict(xRTest)\n",
    "\n",
    "print(accuracy_score(yTest,predict))\n",
    "R2CV = cross_val_score(mlpc,xRTest,yTest,cv=10).mean()\n",
    "print(R2CV)\n",
    "error = mean_squared_error(yTest,predict)\n",
    "print(np.sqrt(error))"
   ]
  },
  {
   "cell_type": "code",
   "execution_count": 169,
   "metadata": {},
   "outputs": [],
   "source": [
    "params = {\"alpha\": [0.01,0.02,0.005,0.001,0.0001],\n",
    "         \"hidden_layer_sizes\": [(3,5),(5,3),(10,10,10),(100,200,150),(100,100,100)],\n",
    "         \"activation\": [\"relu\",\"logistic\"]}"
   ]
  },
  {
   "cell_type": "code",
   "execution_count": 170,
   "metadata": {},
   "outputs": [
    {
     "name": "stdout",
     "output_type": "stream",
     "text": [
      "{'activation': 'relu', 'alpha': 0.001, 'hidden_layer_sizes': (100, 200, 150)}\n",
      "0.6518461538461537\n"
     ]
    }
   ],
   "source": [
    "cv = GridSearchCV(mlpc,params,cv=10,verbose=False,n_jobs=-1).fit(xRTrain,yTrain)\n",
    "print(cv.best_params_)\n",
    "print(cv.best_score_)"
   ]
  },
  {
   "cell_type": "code",
   "execution_count": 171,
   "metadata": {},
   "outputs": [
    {
     "name": "stdout",
     "output_type": "stream",
     "text": [
      "0.7142857142857143\n",
      "0.6523809523809523\n",
      "1.247219128924647\n",
      "------------------------------------------------------------------------------------------------------------------------\n"
     ]
    }
   ],
   "source": [
    "mlpctuned = MLPClassifier(activation=\"relu\",alpha=0.001,\n",
    "                          hidden_layer_sizes=(100,200,150)).fit(xRTrain,yTrain)\n",
    "predicttuned = mlpctuned.predict(xRTest)\n",
    "\n",
    "print(accuracy_score(yTest,predicttuned))\n",
    "R2CVtuned = cross_val_score(mlpctuned,xRTest,yTest,cv=10).mean()\n",
    "print(R2CVtuned)\n",
    "errortuned = mean_squared_error(yTest,predicttuned)\n",
    "print(np.sqrt(errortuned))\n",
    "print(\"----\"*30)"
   ]
  },
  {
   "cell_type": "markdown",
   "metadata": {},
   "source": [
    "# REGRESSION TREES(CART) C MODELS & ERROR & TUNING & PREDICT"
   ]
  },
  {
   "cell_type": "code",
   "execution_count": 172,
   "metadata": {},
   "outputs": [
    {
     "name": "stdout",
     "output_type": "stream",
     "text": [
      "0.5238095238095238\n",
      "0.6047619047619048\n",
      "1.558387444947959\n"
     ]
    }
   ],
   "source": [
    "cartc = DecisionTreeClassifier(random_state=42).fit(xTrain,yTrain)\n",
    "predict = cartc.predict(xTest)\n",
    "\n",
    "print(accuracy_score(yTest,predict))\n",
    "R2CV = cross_val_score(cartc,xTest,yTest,cv=10).mean()\n",
    "print(R2CV)\n",
    "error = mean_squared_error(yTest,predict)\n",
    "print(np.sqrt(error))"
   ]
  },
  {
   "cell_type": "code",
   "execution_count": 173,
   "metadata": {},
   "outputs": [],
   "source": [
    "params = {\"max_depth\":range(1,20),\n",
    "         \"min_samples_split\":range(2,50)}"
   ]
  },
  {
   "cell_type": "code",
   "execution_count": 174,
   "metadata": {},
   "outputs": [
    {
     "name": "stdout",
     "output_type": "stream",
     "text": [
      "{'max_depth': 3, 'min_samples_split': 2}\n",
      "0.607076923076923\n"
     ]
    }
   ],
   "source": [
    "cv = GridSearchCV(cartc,params,cv=10,verbose=False,n_jobs=-1).fit(xTrain,yTrain)\n",
    "print(cv.best_params_)\n",
    "print(cv.best_score_)"
   ]
  },
  {
   "cell_type": "code",
   "execution_count": 175,
   "metadata": {},
   "outputs": [
    {
     "name": "stdout",
     "output_type": "stream",
     "text": [
      "0.6031746031746031\n",
      "0.6357142857142857\n",
      "1.4907119849998598\n",
      "------------------------------------------------------------------------------------------------------------------------\n"
     ]
    }
   ],
   "source": [
    "cartctuned = DecisionTreeClassifier(random_state=42,max_depth=3,\n",
    "                                    min_samples_split=2).fit(xTrain,yTrain)\n",
    "predicttuned = cartctuned.predict(xTest)\n",
    "\n",
    "print(accuracy_score(yTest,predicttuned))\n",
    "R2CVtuned = cross_val_score(cartctuned,xTest,yTest,cv=10).mean()\n",
    "print(R2CVtuned)\n",
    "errortuned = mean_squared_error(yTest,predicttuned)\n",
    "print(np.sqrt(errortuned))\n",
    "print(\"----\"*30)"
   ]
  },
  {
   "cell_type": "markdown",
   "metadata": {},
   "source": [
    "# RANDOM FOREST (RF) C MODELS & ERROR & TUNING & PREDICT"
   ]
  },
  {
   "cell_type": "code",
   "execution_count": 176,
   "metadata": {},
   "outputs": [
    {
     "name": "stdout",
     "output_type": "stream",
     "text": [
      "0.6984126984126984\n",
      "0.6833333333333333\n",
      "1.351072472296296\n"
     ]
    }
   ],
   "source": [
    "rfc = RandomForestClassifier(random_state=42).fit(xTrain,yTrain)\n",
    "predict = rfc.predict(xTest)\n",
    "\n",
    "print(accuracy_score(yTest,predict))\n",
    "R2CV = cross_val_score(rfc,xTest,yTest,cv=10).mean()\n",
    "print(R2CV)\n",
    "error = mean_squared_error(yTest,predict)\n",
    "print(np.sqrt(error))"
   ]
  },
  {
   "cell_type": "code",
   "execution_count": 177,
   "metadata": {},
   "outputs": [],
   "source": [
    "params = {\"max_depth\": [2, 5, 8, 10],\n",
    "          \"max_features\": [2, 5, 8],\n",
    "          \"n_estimators\": [10, 500, 1000],\n",
    "          \"min_samples_split\": [2, 5, 10]}"
   ]
  },
  {
   "cell_type": "code",
   "execution_count": 178,
   "metadata": {},
   "outputs": [
    {
     "name": "stdout",
     "output_type": "stream",
     "text": [
      "{'max_depth': 8, 'max_features': 8, 'min_samples_split': 5, 'n_estimators': 500}\n",
      "0.6946153846153845\n"
     ]
    }
   ],
   "source": [
    "cv = GridSearchCV(rfc,params,cv=10,verbose=False,n_jobs=-1).fit(xTrain,yTrain)\n",
    "print(cv.best_params_)\n",
    "print(cv.best_score_)"
   ]
  },
  {
   "cell_type": "code",
   "execution_count": 179,
   "metadata": {},
   "outputs": [
    {
     "name": "stdout",
     "output_type": "stream",
     "text": [
      "0.7142857142857143\n",
      "0.6857142857142857\n",
      "1.2909944487358056\n",
      "------------------------------------------------------------------------------------------------------------------------\n"
     ]
    }
   ],
   "source": [
    "rfctuned = RandomForestClassifier(random_state=42,max_depth=8,max_features=8,\n",
    "                                  min_samples_split=5,n_estimators=500).fit(xTrain,yTrain)\n",
    "predicttuned = rfctuned.predict(xTest)\n",
    "\n",
    "print(accuracy_score(yTest,predicttuned))\n",
    "R2CVtuned = cross_val_score(rfctuned,xTest,yTest,cv=10).mean()\n",
    "print(R2CVtuned)\n",
    "errortuned = mean_squared_error(yTest,predicttuned)\n",
    "print(np.sqrt(errortuned))\n",
    "print(\"----\"*30)"
   ]
  },
  {
   "cell_type": "markdown",
   "metadata": {},
   "source": [
    "# GBM C MODELS & ERROR & TUNING & PREDICT"
   ]
  },
  {
   "cell_type": "code",
   "execution_count": 180,
   "metadata": {},
   "outputs": [
    {
     "name": "stdout",
     "output_type": "stream",
     "text": [
      "0.6666666666666666\n",
      "0.49523809523809514\n",
      "1.259881576697424\n"
     ]
    }
   ],
   "source": [
    "gbmc = GradientBoostingClassifier().fit(xTrain,yTrain)\n",
    "predict = gbmc.predict(xTest)\n",
    "\n",
    "print(accuracy_score(yTest,predict))\n",
    "R2CV = cross_val_score(gbmc,xTest,yTest,cv=10).mean()\n",
    "print(R2CV)\n",
    "error = mean_squared_error(yTest,predict)\n",
    "print(np.sqrt(error))"
   ]
  },
  {
   "cell_type": "code",
   "execution_count": 181,
   "metadata": {},
   "outputs": [],
   "source": [
    "params = {\"learning_rate\": [0.001,0.01,0.1,0.05],\n",
    "         \"max_depth\": [3,5,10],\n",
    "         \"n_estimators\": [100,300,500,1000],\n",
    "         \"min_samples_split\":[2,5,10]}"
   ]
  },
  {
   "cell_type": "code",
   "execution_count": null,
   "metadata": {},
   "outputs": [],
   "source": [
    "cv = GridSearchCV(gbmc,params,cv=10,verbose=False,n_jobs=-1).fit(xTrain,yTrain)\n",
    "print(cv.best_params_)\n",
    "print(cv.best_score_)"
   ]
  },
  {
   "cell_type": "code",
   "execution_count": 184,
   "metadata": {},
   "outputs": [
    {
     "name": "stdout",
     "output_type": "stream",
     "text": [
      "0.6984126984126984\n",
      "0.5547619047619048\n",
      "1.3153549825650603\n",
      "------------------------------------------------------------------------------------------------------------------------\n"
     ]
    }
   ],
   "source": [
    "gbmctuned = GradientBoostingClassifier(learning_rate=0.01,max_depth=5,\n",
    "                                      n_estimators=500,min_samples_split=5).fit(xTrain,yTrain)\n",
    "\n",
    "predicttuned = gbmctuned.predict(xTest)\n",
    "\n",
    "print(accuracy_score(yTest,predicttuned))\n",
    "R2CVtuned = cross_val_score(gbmctuned,xTest,yTest,cv=10).mean()\n",
    "print(R2CVtuned)\n",
    "errortuned = mean_squared_error(yTest,predicttuned)\n",
    "print(np.sqrt(errortuned))\n",
    "print(\"----\"*30)"
   ]
  },
  {
   "cell_type": "markdown",
   "metadata": {},
   "source": [
    "# XGBOOST C MODELS & ERROR & TUNING & PREDICT"
   ]
  },
  {
   "cell_type": "code",
   "execution_count": 186,
   "metadata": {},
   "outputs": [
    {
     "name": "stdout",
     "output_type": "stream",
     "text": [
      "[18:37:07] WARNING: ../src/learner.cc:541: \n",
      "Parameters: { verbose } might not be used.\n",
      "\n",
      "  This may not be accurate due to some parameters are only used in language bindings but\n",
      "  passed down to XGBoost core.  Or some parameters are not used but slip through this\n",
      "  verification. Please open an issue if you find above cases.\n",
      "\n",
      "\n",
      "[18:37:07] WARNING: ../src/learner.cc:1061: Starting in XGBoost 1.3.0, the default evaluation metric used with the objective 'multi:softprob' was changed from 'merror' to 'mlogloss'. Explicitly set eval_metric if you'd like to restore the old behavior.\n",
      "0.7142857142857143\n",
      "[18:37:07] WARNING: ../src/learner.cc:541: \n",
      "Parameters: { verbose } might not be used.\n",
      "\n",
      "  This may not be accurate due to some parameters are only used in language bindings but\n",
      "  passed down to XGBoost core.  Or some parameters are not used but slip through this\n",
      "  verification. Please open an issue if you find above cases.\n",
      "\n",
      "\n",
      "[18:37:07] WARNING: ../src/learner.cc:1061: Starting in XGBoost 1.3.0, the default evaluation metric used with the objective 'multi:softprob' was changed from 'merror' to 'mlogloss'. Explicitly set eval_metric if you'd like to restore the old behavior.\n",
      "[18:37:07] WARNING: ../src/learner.cc:541: \n",
      "Parameters: { verbose } might not be used.\n",
      "\n",
      "  This may not be accurate due to some parameters are only used in language bindings but\n",
      "  passed down to XGBoost core.  Or some parameters are not used but slip through this\n",
      "  verification. Please open an issue if you find above cases.\n",
      "\n",
      "\n",
      "[18:37:07] WARNING: ../src/learner.cc:1061: Starting in XGBoost 1.3.0, the default evaluation metric used with the objective 'multi:softprob' was changed from 'merror' to 'mlogloss'. Explicitly set eval_metric if you'd like to restore the old behavior.\n",
      "[18:37:07] WARNING: ../src/learner.cc:541: \n",
      "Parameters: { verbose } might not be used.\n",
      "\n",
      "  This may not be accurate due to some parameters are only used in language bindings but\n",
      "  passed down to XGBoost core.  Or some parameters are not used but slip through this\n",
      "  verification. Please open an issue if you find above cases.\n",
      "\n",
      "\n",
      "[18:37:07] WARNING: ../src/learner.cc:1061: Starting in XGBoost 1.3.0, the default evaluation metric used with the objective 'multi:softprob' was changed from 'merror' to 'mlogloss'. Explicitly set eval_metric if you'd like to restore the old behavior.\n",
      "[18:37:07] WARNING: ../src/learner.cc:541: \n",
      "Parameters: { verbose } might not be used.\n",
      "\n",
      "  This may not be accurate due to some parameters are only used in language bindings but\n",
      "  passed down to XGBoost core.  Or some parameters are not used but slip through this\n",
      "  verification. Please open an issue if you find above cases.\n",
      "\n",
      "\n",
      "[18:37:07] WARNING: ../src/learner.cc:1061: Starting in XGBoost 1.3.0, the default evaluation metric used with the objective 'multi:softprob' was changed from 'merror' to 'mlogloss'. Explicitly set eval_metric if you'd like to restore the old behavior.\n",
      "[18:37:07] WARNING: ../src/learner.cc:541: \n",
      "Parameters: { verbose } might not be used.\n",
      "\n",
      "  This may not be accurate due to some parameters are only used in language bindings but\n",
      "  passed down to XGBoost core.  Or some parameters are not used but slip through this\n",
      "  verification. Please open an issue if you find above cases.\n",
      "\n",
      "\n",
      "[18:37:07] WARNING: ../src/learner.cc:1061: Starting in XGBoost 1.3.0, the default evaluation metric used with the objective 'multi:softprob' was changed from 'merror' to 'mlogloss'. Explicitly set eval_metric if you'd like to restore the old behavior.\n",
      "[18:37:07] WARNING: ../src/learner.cc:541: \n",
      "Parameters: { verbose } might not be used.\n",
      "\n",
      "  This may not be accurate due to some parameters are only used in language bindings but\n",
      "  passed down to XGBoost core.  Or some parameters are not used but slip through this\n",
      "  verification. Please open an issue if you find above cases.\n",
      "\n",
      "\n",
      "[18:37:07] WARNING: ../src/learner.cc:1061: Starting in XGBoost 1.3.0, the default evaluation metric used with the objective 'multi:softprob' was changed from 'merror' to 'mlogloss'. Explicitly set eval_metric if you'd like to restore the old behavior.\n",
      "[18:37:08] WARNING: ../src/learner.cc:541: \n",
      "Parameters: { verbose } might not be used.\n",
      "\n",
      "  This may not be accurate due to some parameters are only used in language bindings but\n",
      "  passed down to XGBoost core.  Or some parameters are not used but slip through this\n",
      "  verification. Please open an issue if you find above cases.\n",
      "\n",
      "\n",
      "[18:37:08] WARNING: ../src/learner.cc:1061: Starting in XGBoost 1.3.0, the default evaluation metric used with the objective 'multi:softprob' was changed from 'merror' to 'mlogloss'. Explicitly set eval_metric if you'd like to restore the old behavior.\n",
      "[18:37:08] WARNING: ../src/learner.cc:541: \n",
      "Parameters: { verbose } might not be used.\n",
      "\n",
      "  This may not be accurate due to some parameters are only used in language bindings but\n",
      "  passed down to XGBoost core.  Or some parameters are not used but slip through this\n",
      "  verification. Please open an issue if you find above cases.\n",
      "\n",
      "\n",
      "[18:37:08] WARNING: ../src/learner.cc:1061: Starting in XGBoost 1.3.0, the default evaluation metric used with the objective 'multi:softprob' was changed from 'merror' to 'mlogloss'. Explicitly set eval_metric if you'd like to restore the old behavior.\n",
      "[18:37:08] WARNING: ../src/learner.cc:541: \n",
      "Parameters: { verbose } might not be used.\n",
      "\n",
      "  This may not be accurate due to some parameters are only used in language bindings but\n",
      "  passed down to XGBoost core.  Or some parameters are not used but slip through this\n",
      "  verification. Please open an issue if you find above cases.\n",
      "\n",
      "\n",
      "[18:37:08] WARNING: ../src/learner.cc:1061: Starting in XGBoost 1.3.0, the default evaluation metric used with the objective 'multi:softprob' was changed from 'merror' to 'mlogloss'. Explicitly set eval_metric if you'd like to restore the old behavior.\n",
      "[18:37:08] WARNING: ../src/learner.cc:541: \n",
      "Parameters: { verbose } might not be used.\n",
      "\n",
      "  This may not be accurate due to some parameters are only used in language bindings but\n",
      "  passed down to XGBoost core.  Or some parameters are not used but slip through this\n",
      "  verification. Please open an issue if you find above cases.\n",
      "\n",
      "\n",
      "[18:37:08] WARNING: ../src/learner.cc:1061: Starting in XGBoost 1.3.0, the default evaluation metric used with the objective 'multi:softprob' was changed from 'merror' to 'mlogloss'. Explicitly set eval_metric if you'd like to restore the old behavior.\n",
      "0.638095238095238\n",
      "1.3273676061682242\n"
     ]
    }
   ],
   "source": [
    "xgc = XGBClassifier(verbose=False).fit(xTrain,yTrain)\n",
    "predict = xgc.predict(xTest)\n",
    "\n",
    "print(accuracy_score(yTest,predict))\n",
    "R2CV = cross_val_score(xgc,xTest,yTest,cv=10).mean()\n",
    "print(R2CV)\n",
    "error = mean_squared_error(yTest,predict)\n",
    "print(np.sqrt(error))"
   ]
  },
  {
   "cell_type": "code",
   "execution_count": 187,
   "metadata": {},
   "outputs": [],
   "source": [
    "params = {\"n_estimators\": [100, 500, 1000, 2000],\n",
    "          \"subsample\": [0.6, 0.8, 1.0],\n",
    "          \"max_depth\": [3, 4, 5, 6],\n",
    "          \"learning_rate\": [0.1, 0.01, 0.02, 0.05],\n",
    "          \"min_samples_split\": [2, 5, 10]}"
   ]
  },
  {
   "cell_type": "code",
   "execution_count": null,
   "metadata": {},
   "outputs": [],
   "source": [
    "cv = GridSearchCV(xgc,params,cv=10,verbose=False,n_jobs=-1).fit(xTrain,yTrain)\n",
    "print(cv.best_params_)\n",
    "print(cv.best_score_)"
   ]
  },
  {
   "cell_type": "code",
   "execution_count": 189,
   "metadata": {},
   "outputs": [
    {
     "name": "stdout",
     "output_type": "stream",
     "text": [
      "[18:44:17] WARNING: ../src/learner.cc:541: \n",
      "Parameters: { min_samples_split } might not be used.\n",
      "\n",
      "  This may not be accurate due to some parameters are only used in language bindings but\n",
      "  passed down to XGBoost core.  Or some parameters are not used but slip through this\n",
      "  verification. Please open an issue if you find above cases.\n",
      "\n",
      "\n",
      "[18:44:17] WARNING: ../src/learner.cc:1061: Starting in XGBoost 1.3.0, the default evaluation metric used with the objective 'multi:softprob' was changed from 'merror' to 'mlogloss'. Explicitly set eval_metric if you'd like to restore the old behavior.\n",
      "0.7142857142857143\n",
      "[18:44:19] WARNING: ../src/learner.cc:541: \n",
      "Parameters: { min_samples_split } might not be used.\n",
      "\n",
      "  This may not be accurate due to some parameters are only used in language bindings but\n",
      "  passed down to XGBoost core.  Or some parameters are not used but slip through this\n",
      "  verification. Please open an issue if you find above cases.\n",
      "\n",
      "\n",
      "[18:44:19] WARNING: ../src/learner.cc:1061: Starting in XGBoost 1.3.0, the default evaluation metric used with the objective 'multi:softprob' was changed from 'merror' to 'mlogloss'. Explicitly set eval_metric if you'd like to restore the old behavior.\n",
      "[18:44:20] WARNING: ../src/learner.cc:541: \n",
      "Parameters: { min_samples_split } might not be used.\n",
      "\n",
      "  This may not be accurate due to some parameters are only used in language bindings but\n",
      "  passed down to XGBoost core.  Or some parameters are not used but slip through this\n",
      "  verification. Please open an issue if you find above cases.\n",
      "\n",
      "\n",
      "[18:44:20] WARNING: ../src/learner.cc:1061: Starting in XGBoost 1.3.0, the default evaluation metric used with the objective 'multi:softprob' was changed from 'merror' to 'mlogloss'. Explicitly set eval_metric if you'd like to restore the old behavior.\n",
      "[18:44:21] WARNING: ../src/learner.cc:541: \n",
      "Parameters: { min_samples_split } might not be used.\n",
      "\n",
      "  This may not be accurate due to some parameters are only used in language bindings but\n",
      "  passed down to XGBoost core.  Or some parameters are not used but slip through this\n",
      "  verification. Please open an issue if you find above cases.\n",
      "\n",
      "\n",
      "[18:44:21] WARNING: ../src/learner.cc:1061: Starting in XGBoost 1.3.0, the default evaluation metric used with the objective 'multi:softprob' was changed from 'merror' to 'mlogloss'. Explicitly set eval_metric if you'd like to restore the old behavior.\n",
      "[18:44:22] WARNING: ../src/learner.cc:541: \n",
      "Parameters: { min_samples_split } might not be used.\n",
      "\n",
      "  This may not be accurate due to some parameters are only used in language bindings but\n",
      "  passed down to XGBoost core.  Or some parameters are not used but slip through this\n",
      "  verification. Please open an issue if you find above cases.\n",
      "\n",
      "\n",
      "[18:44:22] WARNING: ../src/learner.cc:1061: Starting in XGBoost 1.3.0, the default evaluation metric used with the objective 'multi:softprob' was changed from 'merror' to 'mlogloss'. Explicitly set eval_metric if you'd like to restore the old behavior.\n",
      "[18:44:23] WARNING: ../src/learner.cc:541: \n",
      "Parameters: { min_samples_split } might not be used.\n",
      "\n",
      "  This may not be accurate due to some parameters are only used in language bindings but\n",
      "  passed down to XGBoost core.  Or some parameters are not used but slip through this\n",
      "  verification. Please open an issue if you find above cases.\n",
      "\n",
      "\n",
      "[18:44:23] WARNING: ../src/learner.cc:1061: Starting in XGBoost 1.3.0, the default evaluation metric used with the objective 'multi:softprob' was changed from 'merror' to 'mlogloss'. Explicitly set eval_metric if you'd like to restore the old behavior.\n",
      "[18:44:24] WARNING: ../src/learner.cc:541: \n",
      "Parameters: { min_samples_split } might not be used.\n",
      "\n",
      "  This may not be accurate due to some parameters are only used in language bindings but\n",
      "  passed down to XGBoost core.  Or some parameters are not used but slip through this\n",
      "  verification. Please open an issue if you find above cases.\n",
      "\n",
      "\n",
      "[18:44:24] WARNING: ../src/learner.cc:1061: Starting in XGBoost 1.3.0, the default evaluation metric used with the objective 'multi:softprob' was changed from 'merror' to 'mlogloss'. Explicitly set eval_metric if you'd like to restore the old behavior.\n",
      "[18:44:25] WARNING: ../src/learner.cc:541: \n",
      "Parameters: { min_samples_split } might not be used.\n",
      "\n",
      "  This may not be accurate due to some parameters are only used in language bindings but\n",
      "  passed down to XGBoost core.  Or some parameters are not used but slip through this\n",
      "  verification. Please open an issue if you find above cases.\n",
      "\n",
      "\n",
      "[18:44:25] WARNING: ../src/learner.cc:1061: Starting in XGBoost 1.3.0, the default evaluation metric used with the objective 'multi:softprob' was changed from 'merror' to 'mlogloss'. Explicitly set eval_metric if you'd like to restore the old behavior.\n",
      "[18:44:26] WARNING: ../src/learner.cc:541: \n",
      "Parameters: { min_samples_split } might not be used.\n",
      "\n",
      "  This may not be accurate due to some parameters are only used in language bindings but\n",
      "  passed down to XGBoost core.  Or some parameters are not used but slip through this\n",
      "  verification. Please open an issue if you find above cases.\n",
      "\n",
      "\n",
      "[18:44:26] WARNING: ../src/learner.cc:1061: Starting in XGBoost 1.3.0, the default evaluation metric used with the objective 'multi:softprob' was changed from 'merror' to 'mlogloss'. Explicitly set eval_metric if you'd like to restore the old behavior.\n",
      "[18:44:27] WARNING: ../src/learner.cc:541: \n",
      "Parameters: { min_samples_split } might not be used.\n",
      "\n",
      "  This may not be accurate due to some parameters are only used in language bindings but\n",
      "  passed down to XGBoost core.  Or some parameters are not used but slip through this\n",
      "  verification. Please open an issue if you find above cases.\n",
      "\n",
      "\n",
      "[18:44:27] WARNING: ../src/learner.cc:1061: Starting in XGBoost 1.3.0, the default evaluation metric used with the objective 'multi:softprob' was changed from 'merror' to 'mlogloss'. Explicitly set eval_metric if you'd like to restore the old behavior.\n",
      "[18:44:28] WARNING: ../src/learner.cc:541: \n",
      "Parameters: { min_samples_split } might not be used.\n",
      "\n",
      "  This may not be accurate due to some parameters are only used in language bindings but\n",
      "  passed down to XGBoost core.  Or some parameters are not used but slip through this\n",
      "  verification. Please open an issue if you find above cases.\n",
      "\n",
      "\n",
      "[18:44:28] WARNING: ../src/learner.cc:1061: Starting in XGBoost 1.3.0, the default evaluation metric used with the objective 'multi:softprob' was changed from 'merror' to 'mlogloss'. Explicitly set eval_metric if you'd like to restore the old behavior.\n",
      "0.669047619047619\n",
      "1.2786401506759573\n",
      "------------------------------------------------------------------------------------------------------------------------\n"
     ]
    }
   ],
   "source": [
    "xgctuned = XGBClassifier(n_estimators=1000,subsample=0.8,\n",
    "                        max_depth=5,learning_rate=0.01,min_samples_split=5).fit(xTrain,yTrain)\n",
    "predicttuned = xgctuned.predict(xTest)\n",
    "\n",
    "print(accuracy_score(yTest,predicttuned))\n",
    "R2CVtuned = cross_val_score(xgctuned,xTest,yTest,cv=10).mean()\n",
    "print(R2CVtuned)\n",
    "errortuned = mean_squared_error(yTest,predicttuned)\n",
    "print(np.sqrt(errortuned))\n",
    "print(\"----\"*30)"
   ]
  },
  {
   "cell_type": "markdown",
   "metadata": {},
   "source": [
    "# LIGHTGBM C MODELS & ERROR & TUNING & PREDICT"
   ]
  },
  {
   "cell_type": "code",
   "execution_count": 190,
   "metadata": {},
   "outputs": [
    {
     "name": "stdout",
     "output_type": "stream",
     "text": [
      "0.6984126984126984\n",
      "0.5761904761904761\n",
      "1.391584685352615\n"
     ]
    }
   ],
   "source": [
    "lgbmc = LGBMClassifier().fit(xTrain,yTrain)\n",
    "predict = lgbmc.predict(xTest)\n",
    "\n",
    "print(accuracy_score(yTest,predict))\n",
    "R2CV = cross_val_score(lgbmc,xTest,yTest,cv=10).mean()\n",
    "print(R2CV)\n",
    "error = mean_squared_error(yTest,predict)\n",
    "print(np.sqrt(error))"
   ]
  },
  {
   "cell_type": "code",
   "execution_count": 191,
   "metadata": {},
   "outputs": [],
   "source": [
    "params = {\"n_estimators\": [100, 500, 1000, 2000],\n",
    "          \"subsample\": [0.6, 0.8, 1.0],\n",
    "          \"max_depth\": [3, 4, 5, 6],\n",
    "          \"learning_rate\": [0.1, 0.01, 0.02, 0.05],\n",
    "          \"min_child_samples\": [5, 10, 20]}"
   ]
  },
  {
   "cell_type": "code",
   "execution_count": null,
   "metadata": {},
   "outputs": [],
   "source": [
    "cv = GridSearchCV(lgbmc,params,cv=10,verbose=False,n_jobs=-1).fit(xTrain,yTrain)\n",
    "print(cv.best_params_)\n",
    "print(cv.best_score_)"
   ]
  },
  {
   "cell_type": "code",
   "execution_count": 195,
   "metadata": {},
   "outputs": [
    {
     "name": "stdout",
     "output_type": "stream",
     "text": [
      "[LightGBM] [Warning] Accuracy may be bad since you didn't explicitly set num_leaves OR 2^max_depth > num_leaves. (num_leaves=31).\n",
      "0.6825396825396826\n",
      "[LightGBM] [Warning] Accuracy may be bad since you didn't explicitly set num_leaves OR 2^max_depth > num_leaves. (num_leaves=31).\n",
      "[LightGBM] [Warning] Accuracy may be bad since you didn't explicitly set num_leaves OR 2^max_depth > num_leaves. (num_leaves=31).\n",
      "[LightGBM] [Warning] Accuracy may be bad since you didn't explicitly set num_leaves OR 2^max_depth > num_leaves. (num_leaves=31).\n",
      "[LightGBM] [Warning] Accuracy may be bad since you didn't explicitly set num_leaves OR 2^max_depth > num_leaves. (num_leaves=31).\n",
      "[LightGBM] [Warning] Accuracy may be bad since you didn't explicitly set num_leaves OR 2^max_depth > num_leaves. (num_leaves=31).\n",
      "[LightGBM] [Warning] Accuracy may be bad since you didn't explicitly set num_leaves OR 2^max_depth > num_leaves. (num_leaves=31).\n",
      "[LightGBM] [Warning] Accuracy may be bad since you didn't explicitly set num_leaves OR 2^max_depth > num_leaves. (num_leaves=31).\n",
      "[LightGBM] [Warning] Accuracy may be bad since you didn't explicitly set num_leaves OR 2^max_depth > num_leaves. (num_leaves=31).\n",
      "[LightGBM] [Warning] Accuracy may be bad since you didn't explicitly set num_leaves OR 2^max_depth > num_leaves. (num_leaves=31).\n",
      "[LightGBM] [Warning] Accuracy may be bad since you didn't explicitly set num_leaves OR 2^max_depth > num_leaves. (num_leaves=31).\n",
      "0.6357142857142857\n",
      "1.3093073414159542\n",
      "------------------------------------------------------------------------------------------------------------------------\n"
     ]
    }
   ],
   "source": [
    "lgbmctuned = LGBMClassifier(n_estimators=1000,subsample=0.8,max_depth=6,\n",
    "                           learning_rate=0.02,min_child_samples=10).fit(xTrain,yTrain)\n",
    "predicttuned = lgbmctuned.predict(xTest)\n",
    "\n",
    "print(accuracy_score(yTest,predicttuned))\n",
    "R2CVtuned = cross_val_score(lgbmctuned,xTest,yTest,cv=10).mean()\n",
    "print(R2CVtuned)\n",
    "errortuned = mean_squared_error(yTest,predicttuned)\n",
    "print(np.sqrt(errortuned))\n",
    "print(\"----\"*30)"
   ]
  },
  {
   "cell_type": "markdown",
   "metadata": {},
   "source": [
    "# CATBOOST CLASSIFIER MODELS & ERROR & TUNING & PREDICT"
   ]
  },
  {
   "cell_type": "code",
   "execution_count": 196,
   "metadata": {},
   "outputs": [
    {
     "name": "stdout",
     "output_type": "stream",
     "text": [
      "0.6666666666666666\n",
      "0.7285714285714285\n",
      "1.4364860122855578\n"
     ]
    }
   ],
   "source": [
    "catbc = CatBoostClassifier(verbose=False).fit(xTrain,yTrain)\n",
    "predict = catbc.predict(xTest)\n",
    "\n",
    "print(accuracy_score(yTest,predict))\n",
    "R2CV = cross_val_score(catbc,xTest,yTest,cv=10).mean()\n",
    "print(R2CV)\n",
    "error = mean_squared_error(yTest,predict)\n",
    "print(np.sqrt(error))"
   ]
  },
  {
   "cell_type": "code",
   "execution_count": 197,
   "metadata": {},
   "outputs": [],
   "source": [
    "params = {\"iterations\": [200, 500],\n",
    "          \"learning_rate\": [0.01, 0.05, 0.1],\n",
    "          \"depth\": [3, 5, 8]}"
   ]
  },
  {
   "cell_type": "code",
   "execution_count": 198,
   "metadata": {},
   "outputs": [
    {
     "name": "stdout",
     "output_type": "stream",
     "text": [
      "{'depth': 5, 'iterations': 200, 'learning_rate': 0.05}\n",
      "0.6906153846153845\n"
     ]
    }
   ],
   "source": [
    "cv = GridSearchCV(catbc,params,cv=10,verbose=False,n_jobs=-1).fit(xTrain,yTrain)\n",
    "print(cv.best_params_)\n",
    "print(cv.best_score_)"
   ]
  },
  {
   "cell_type": "code",
   "execution_count": 199,
   "metadata": {},
   "outputs": [
    {
     "name": "stdout",
     "output_type": "stream",
     "text": [
      "0.7777777777777778\n",
      "0.7023809523809523\n",
      "1.1818736805705576\n",
      "------------------------------------------------------------------------------------------------------------------------\n"
     ]
    }
   ],
   "source": [
    "catbctuned = CatBoostClassifier(verbose=False,depth=5,iterations=200,\n",
    "                                learning_rate=0.05).fit(xTrain,yTrain)\n",
    "predicttuned = catbctuned.predict(xTest)\n",
    "\n",
    "print(accuracy_score(yTest,predicttuned))\n",
    "R2CVtuned = cross_val_score(catbctuned,xTest,yTest,cv=10).mean()\n",
    "print(R2CVtuned)\n",
    "errortuned = mean_squared_error(yTest,predicttuned)\n",
    "print(np.sqrt(errortuned))\n",
    "print(\"----\"*30)"
   ]
  },
  {
   "cell_type": "markdown",
   "metadata": {},
   "source": [
    "# COMPARISON REGRESSOR"
   ]
  },
  {
   "cell_type": "code",
   "execution_count": 200,
   "metadata": {},
   "outputs": [],
   "source": [
    "modelsC = [lj,gnb,knnctuned,mlpctuned,cartctuned,rfctuned,gbmctuned,xgctuned,lgbmctuned,catbctuned]"
   ]
  },
  {
   "cell_type": "code",
   "execution_count": 202,
   "metadata": {},
   "outputs": [
    {
     "name": "stdout",
     "output_type": "stream",
     "text": [
      "----------------------------\n",
      "LogisticRegression: \n",
      "Accuracy: 0.7301587301587301\n",
      "----------------------------\n",
      "GaussianNB: \n",
      "Accuracy: 0.6984126984126984\n",
      "----------------------------\n",
      "KNeighborsClassifier: \n",
      "Accuracy: 0.6825396825396826\n",
      "----------------------------\n",
      "MLPClassifier: \n",
      "Accuracy: 0.5873015873015873\n",
      "----------------------------\n",
      "DecisionTreeClassifier: \n",
      "Accuracy: 0.6031746031746031\n",
      "----------------------------\n",
      "RandomForestClassifier: \n",
      "Accuracy: 0.7142857142857143\n",
      "----------------------------\n",
      "GradientBoostingClassifier: \n",
      "Accuracy: 0.6984126984126984\n",
      "----------------------------\n",
      "XGBClassifier: \n",
      "Accuracy: 0.7142857142857143\n",
      "----------------------------\n",
      "LGBMClassifier: \n",
      "Accuracy: 0.6825396825396826\n",
      "----------------------------\n",
      "CatBoostClassifier: \n",
      "Accuracy: 0.7777777777777778\n"
     ]
    }
   ],
   "source": [
    "for model in modelsC:\n",
    "    name = model.__class__.__name__\n",
    "    predict = model.predict(xTest)\n",
    "    accuracy = accuracy_score(yTest, predict)\n",
    "    print(\"-\" * 28)\n",
    "    print(name + \": \")\n",
    "    print(f\"Accuracy: {accuracy}\")"
   ]
  },
  {
   "cell_type": "markdown",
   "metadata": {},
   "source": [
    "# COMPARISON REGRESSOR VISUALIZATION"
   ]
  },
  {
   "cell_type": "code",
   "execution_count": 204,
   "metadata": {},
   "outputs": [
    {
     "data": {
      "image/png": "[encoded data removed]",
      "text/plain": [
       "<Figure size 432x288 with 1 Axes>"
      ]
     },
     "metadata": {
      "needs_background": "light"
     },
     "output_type": "display_data"
    }
   ],
   "source": [
    "r = pd.DataFrame(columns=[\"MODELS\",\"ACC\"])\n",
    "\n",
    "for model in modelsC:\n",
    "    name = model.__class__.__name__\n",
    "    predict = model.predict(xTest)\n",
    "    accuracy = accuracy_score(yTest, predict)\n",
    "    result = pd.DataFrame([[name,accuracy*100]],columns=[\"MODELS\",\"ACC\"])\n",
    "    r = r.append(result)\n",
    "    \n",
    "sns.barplot(x=\"ACC\",y=\"MODELS\",data=r,color=\"r\")\n",
    "plt.xlabel(\"ACC\")\n",
    "plt.title(\"MODEL ACCURACY COMPARISON\")\n",
    "plt.show()"
   ]
  }
 ],
 "metadata": {
  "kernelspec": {
   "display_name": "Python 3 (ipykernel)",
   "language": "python",
   "name": "python3"
  },
  "language_info": {
   "codemirror_mode": {
    "name": "ipython",
    "version": 3
   },
   "file_extension": ".py",
   "mimetype": "text/x-python",
   "name": "python",
   "nbconvert_exporter": "python",
   "pygments_lexer": "ipython3",
   "version": "3.9.7"
  }
 },
 "nbformat": 4,
 "nbformat_minor": 4
}
